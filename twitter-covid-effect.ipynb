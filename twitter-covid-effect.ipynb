{
 "cells": [
  {
   "cell_type": "markdown",
   "metadata": {
    "id": "1HdjpvQWGGir"
   },
   "source": [
    "## Intorduction"
   ]
  },
  {
   "cell_type": "markdown",
   "metadata": {
    "id": "j3_bHom7GKZa"
   },
   "source": [
    "Covid-19 has a significant impact on people's lives in all countries all over the world. Social media plays an especially important role in the global efforts to contain the pandemic as it allows us to communicate vital information to the general public in a fast and reliable way. However, the influence of such communication on the spread of the virus varies from communicator to communicator. In this research, we analyze the effectiveness of conveying covid-19 information to the Canadian public of 3 Canadian government tweeter accounts, namely, the Public Health Agency of Canada, the Chief Public Health Officer of Canada and the Prime Minister of Canada. The effectiveness is measured as the number of new Covid-19 cases after the publication of a tweet. \n",
    "\n",
    "Below is the outline of the content of the notebook:\n",
    "1. **Datasets** - creating datasets for ML models\n",
    "  1. **Daily Covid-19 data** - getting and understanding daily Covid-19 data\n",
    "  2. **Twitter data** - getting and preprocessing twitter data\n",
    "  3. **Dataset building** - labling the twitter data to build two datasets\n",
    "2. **Model A building** - building a model on the first dataset\n",
    "3. **Model B building** - building a model on the second dataset\n",
    "4. **Models comparison** - models comparison and final recomendations"
   ]
  },
  {
   "cell_type": "markdown",
   "metadata": {
    "id": "RQOqF3ocaYkX"
   },
   "source": [
    "## Datasets"
   ]
  },
  {
   "cell_type": "markdown",
   "metadata": {
    "id": "wgqPSi6fakZR"
   },
   "source": [
    "In this section we will fetch daily Covid-19 and twitter data, label the tweets and build two version of dataset. The first version will be based on the assumption that today's tweet will get a label using the next day number of new cases. The second version will be based on the assumption that today's tweet will get a label using the number of new cases in 14 days.\n",
    "\n",
    "The label is a categorical variable that has three values:\n",
    "* $+1$ - Increase the spread of COVID19\n",
    "*  $0$ - No change on the spread of COVID19\n",
    "* $-1$ - Decrease the spread of COVID19"
   ]
  },
  {
   "cell_type": "markdown",
   "metadata": {
    "id": "F-WmLCAKal1K"
   },
   "source": [
    "### Daily Covid-19 data"
   ]
  },
  {
   "cell_type": "markdown",
   "metadata": {
    "id": "pgUIeeMQaqXJ"
   },
   "source": [
    "To get the daily covid-19 cases in Canada we load the [Open COVID-19 datset](https://github.com/GoogleCloudPlatform/covid-19-open-data) that is also available via Google BigQuery."
   ]
  },
  {
   "cell_type": "code",
   "execution_count": 1,
   "metadata": {
    "id": "Ca_icOUUi8rR"
   },
   "outputs": [],
   "source": [
    "import pandas as pd\n",
    "\n",
    "# Load CSV data directly from the URL with pandas\n",
    "covid_data_df = pd.read_csv(\n",
    "    \"https://storage.googleapis.com/covid19-open-data/v2/epidemiology.csv\")"
   ]
  },
  {
   "cell_type": "code",
   "execution_count": 2,
   "metadata": {
    "colab": {
     "base_uri": "https://localhost:8080/",
     "height": 391
    },
    "id": "PbTIbUhAg7_E",
    "outputId": "c2ecb4d3-ca82-4338-b668-d586282e7f45"
   },
   "outputs": [
    {
     "name": "stdout",
     "output_type": "stream",
     "text": [
      "<class 'pandas.core.frame.DataFrame'>\n",
      "DatetimeIndex: 293 entries, 2019-12-30 to 2020-10-17\n",
      "Data columns (total 9 columns):\n",
      " #   Column           Non-Null Count  Dtype  \n",
      "---  ------           --------------  -----  \n",
      " 0   key              293 non-null    object \n",
      " 1   new_confirmed    293 non-null    float64\n",
      " 2   new_deceased     293 non-null    float64\n",
      " 3   new_recovered    205 non-null    float64\n",
      " 4   new_tested       220 non-null    float64\n",
      " 5   total_confirmed  293 non-null    float64\n",
      " 6   total_deceased   293 non-null    float64\n",
      " 7   total_recovered  193 non-null    float64\n",
      " 8   total_tested     221 non-null    float64\n",
      "dtypes: float64(8), object(1)\n",
      "memory usage: 22.9+ KB\n"
     ]
    },
    {
     "name": "stderr",
     "output_type": "stream",
     "text": [
      "/usr/local/lib/python3.6/dist-packages/ipykernel_launcher.py:4: SettingWithCopyWarning: \n",
      "A value is trying to be set on a copy of a slice from a DataFrame.\n",
      "Try using .loc[row_indexer,col_indexer] = value instead\n",
      "\n",
      "See the caveats in the documentation: https://pandas.pydata.org/pandas-docs/stable/user_guide/indexing.html#returning-a-view-versus-a-copy\n",
      "  after removing the cwd from sys.path.\n"
     ]
    }
   ],
   "source": [
    "# select canada data\n",
    "covid_data_ca_df = covid_data_df[covid_data_df.key == 'CA']\n",
    "# covert the date string to a datetime object\n",
    "covid_data_ca_df['date'] = pd.to_datetime(covid_data_ca_df['date'])\n",
    "# set data as an index in the dataframe\n",
    "covid_data_ca_df.set_index('date', inplace=True)\n",
    "\n",
    "# output the dataframe info\n",
    "covid_data_ca_df.info()"
   ]
  },
  {
   "cell_type": "code",
   "execution_count": 3,
   "metadata": {
    "colab": {
     "base_uri": "https://localhost:8080/",
     "height": 535
    },
    "id": "XNCV8SEHqiIk",
    "outputId": "fc83792e-1665-4d47-c35f-e930a3f0eaa3"
   },
   "outputs": [
    {
     "name": "stderr",
     "output_type": "stream",
     "text": [
      "/usr/local/lib/python3.6/dist-packages/pandas/core/frame.py:4169: SettingWithCopyWarning: \n",
      "A value is trying to be set on a copy of a slice from a DataFrame\n",
      "\n",
      "See the caveats in the documentation: https://pandas.pydata.org/pandas-docs/stable/user_guide/indexing.html#returning-a-view-versus-a-copy\n",
      "  errors=errors,\n"
     ]
    },
    {
     "data": {
      "text/html": [
       "<div>\n",
       "<style scoped>\n",
       "    .dataframe tbody tr th:only-of-type {\n",
       "        vertical-align: middle;\n",
       "    }\n",
       "\n",
       "    .dataframe tbody tr th {\n",
       "        vertical-align: top;\n",
       "    }\n",
       "\n",
       "    .dataframe thead th {\n",
       "        text-align: right;\n",
       "    }\n",
       "</style>\n",
       "<table border=\"1\" class=\"dataframe\">\n",
       "  <thead>\n",
       "    <tr style=\"text-align: right;\">\n",
       "      <th></th>\n",
       "      <th>new_confirmed</th>\n",
       "      <th>new_deceased</th>\n",
       "      <th>new_recovered</th>\n",
       "      <th>new_tested</th>\n",
       "      <th>total_confirmed</th>\n",
       "      <th>total_deceased</th>\n",
       "      <th>total_recovered</th>\n",
       "      <th>total_tested</th>\n",
       "    </tr>\n",
       "    <tr>\n",
       "      <th>date</th>\n",
       "      <th></th>\n",
       "      <th></th>\n",
       "      <th></th>\n",
       "      <th></th>\n",
       "      <th></th>\n",
       "      <th></th>\n",
       "      <th></th>\n",
       "      <th></th>\n",
       "    </tr>\n",
       "  </thead>\n",
       "  <tbody>\n",
       "    <tr>\n",
       "      <th>2019-12-30</th>\n",
       "      <td>0.0</td>\n",
       "      <td>0.0</td>\n",
       "      <td>NaN</td>\n",
       "      <td>NaN</td>\n",
       "      <td>0.0</td>\n",
       "      <td>0.0</td>\n",
       "      <td>NaN</td>\n",
       "      <td>NaN</td>\n",
       "    </tr>\n",
       "    <tr>\n",
       "      <th>2019-12-31</th>\n",
       "      <td>0.0</td>\n",
       "      <td>0.0</td>\n",
       "      <td>NaN</td>\n",
       "      <td>NaN</td>\n",
       "      <td>0.0</td>\n",
       "      <td>0.0</td>\n",
       "      <td>NaN</td>\n",
       "      <td>NaN</td>\n",
       "    </tr>\n",
       "    <tr>\n",
       "      <th>2020-01-01</th>\n",
       "      <td>0.0</td>\n",
       "      <td>0.0</td>\n",
       "      <td>NaN</td>\n",
       "      <td>NaN</td>\n",
       "      <td>0.0</td>\n",
       "      <td>0.0</td>\n",
       "      <td>NaN</td>\n",
       "      <td>NaN</td>\n",
       "    </tr>\n",
       "    <tr>\n",
       "      <th>2020-01-02</th>\n",
       "      <td>0.0</td>\n",
       "      <td>0.0</td>\n",
       "      <td>NaN</td>\n",
       "      <td>NaN</td>\n",
       "      <td>0.0</td>\n",
       "      <td>0.0</td>\n",
       "      <td>NaN</td>\n",
       "      <td>NaN</td>\n",
       "    </tr>\n",
       "    <tr>\n",
       "      <th>2020-01-03</th>\n",
       "      <td>0.0</td>\n",
       "      <td>0.0</td>\n",
       "      <td>NaN</td>\n",
       "      <td>NaN</td>\n",
       "      <td>0.0</td>\n",
       "      <td>0.0</td>\n",
       "      <td>NaN</td>\n",
       "      <td>NaN</td>\n",
       "    </tr>\n",
       "    <tr>\n",
       "      <th>...</th>\n",
       "      <td>...</td>\n",
       "      <td>...</td>\n",
       "      <td>...</td>\n",
       "      <td>...</td>\n",
       "      <td>...</td>\n",
       "      <td>...</td>\n",
       "      <td>...</td>\n",
       "      <td>...</td>\n",
       "    </tr>\n",
       "    <tr>\n",
       "      <th>2020-10-13</th>\n",
       "      <td>4042.0</td>\n",
       "      <td>27.0</td>\n",
       "      <td>3228.0</td>\n",
       "      <td>78084.0</td>\n",
       "      <td>186881.0</td>\n",
       "      <td>9654.0</td>\n",
       "      <td>157486.0</td>\n",
       "      <td>8269676.0</td>\n",
       "    </tr>\n",
       "    <tr>\n",
       "      <th>2020-10-14</th>\n",
       "      <td>2506.0</td>\n",
       "      <td>10.0</td>\n",
       "      <td>1865.0</td>\n",
       "      <td>83393.0</td>\n",
       "      <td>189385.0</td>\n",
       "      <td>9664.0</td>\n",
       "      <td>159351.0</td>\n",
       "      <td>8353069.0</td>\n",
       "    </tr>\n",
       "    <tr>\n",
       "      <th>2020-10-15</th>\n",
       "      <td>2345.0</td>\n",
       "      <td>35.0</td>\n",
       "      <td>2139.0</td>\n",
       "      <td>50075.0</td>\n",
       "      <td>191730.0</td>\n",
       "      <td>9699.0</td>\n",
       "      <td>161490.0</td>\n",
       "      <td>8403144.0</td>\n",
       "    </tr>\n",
       "    <tr>\n",
       "      <th>2020-10-16</th>\n",
       "      <td>2374.0</td>\n",
       "      <td>23.0</td>\n",
       "      <td>2154.0</td>\n",
       "      <td>159915.0</td>\n",
       "      <td>194106.0</td>\n",
       "      <td>9722.0</td>\n",
       "      <td>163644.0</td>\n",
       "      <td>8563059.0</td>\n",
       "    </tr>\n",
       "    <tr>\n",
       "      <th>2020-10-17</th>\n",
       "      <td>2215.0</td>\n",
       "      <td>24.0</td>\n",
       "      <td>1802.0</td>\n",
       "      <td>81210.0</td>\n",
       "      <td>196321.0</td>\n",
       "      <td>9746.0</td>\n",
       "      <td>165446.0</td>\n",
       "      <td>8644269.0</td>\n",
       "    </tr>\n",
       "  </tbody>\n",
       "</table>\n",
       "<p>293 rows × 8 columns</p>\n",
       "</div>"
      ],
      "text/plain": [
       "            new_confirmed  new_deceased  ...  total_recovered  total_tested\n",
       "date                                     ...                               \n",
       "2019-12-30            0.0           0.0  ...              NaN           NaN\n",
       "2019-12-31            0.0           0.0  ...              NaN           NaN\n",
       "2020-01-01            0.0           0.0  ...              NaN           NaN\n",
       "2020-01-02            0.0           0.0  ...              NaN           NaN\n",
       "2020-01-03            0.0           0.0  ...              NaN           NaN\n",
       "...                   ...           ...  ...              ...           ...\n",
       "2020-10-13         4042.0          27.0  ...         157486.0     8269676.0\n",
       "2020-10-14         2506.0          10.0  ...         159351.0     8353069.0\n",
       "2020-10-15         2345.0          35.0  ...         161490.0     8403144.0\n",
       "2020-10-16         2374.0          23.0  ...         163644.0     8563059.0\n",
       "2020-10-17         2215.0          24.0  ...         165446.0     8644269.0\n",
       "\n",
       "[293 rows x 8 columns]"
      ]
     },
     "execution_count": 3,
     "metadata": {
      "tags": []
     },
     "output_type": "execute_result"
    }
   ],
   "source": [
    "# remove the country key from the dataframe\n",
    "covid_data_ca_df.drop('key',axis=1,inplace=True)\n",
    "covid_data_ca_df"
   ]
  },
  {
   "cell_type": "markdown",
   "metadata": {
    "id": "g2_sl2hxjeXu"
   },
   "source": [
    "Understanding summary statistics of the covid-19 data:"
   ]
  },
  {
   "cell_type": "code",
   "execution_count": 4,
   "metadata": {
    "colab": {
     "base_uri": "https://localhost:8080/",
     "height": 297
    },
    "id": "HTLqkFljuND9",
    "outputId": "758a9fda-4558-4758-f52d-c0bf7593bccc"
   },
   "outputs": [
    {
     "data": {
      "text/html": [
       "<div>\n",
       "<style scoped>\n",
       "    .dataframe tbody tr th:only-of-type {\n",
       "        vertical-align: middle;\n",
       "    }\n",
       "\n",
       "    .dataframe tbody tr th {\n",
       "        vertical-align: top;\n",
       "    }\n",
       "\n",
       "    .dataframe thead th {\n",
       "        text-align: right;\n",
       "    }\n",
       "</style>\n",
       "<table border=\"1\" class=\"dataframe\">\n",
       "  <thead>\n",
       "    <tr style=\"text-align: right;\">\n",
       "      <th></th>\n",
       "      <th>new_confirmed</th>\n",
       "      <th>new_deceased</th>\n",
       "      <th>new_recovered</th>\n",
       "      <th>new_tested</th>\n",
       "      <th>total_confirmed</th>\n",
       "      <th>total_deceased</th>\n",
       "      <th>total_recovered</th>\n",
       "      <th>total_tested</th>\n",
       "    </tr>\n",
       "  </thead>\n",
       "  <tbody>\n",
       "    <tr>\n",
       "      <th>count</th>\n",
       "      <td>293.000000</td>\n",
       "      <td>293.000000</td>\n",
       "      <td>205.000000</td>\n",
       "      <td>220.000000</td>\n",
       "      <td>293.000000</td>\n",
       "      <td>293.000000</td>\n",
       "      <td>193.000000</td>\n",
       "      <td>2.210000e+02</td>\n",
       "    </tr>\n",
       "    <tr>\n",
       "      <th>mean</th>\n",
       "      <td>670.037543</td>\n",
       "      <td>33.262799</td>\n",
       "      <td>805.931707</td>\n",
       "      <td>39242.027273</td>\n",
       "      <td>70680.286689</td>\n",
       "      <td>4934.686007</td>\n",
       "      <td>79567.740933</td>\n",
       "      <td>3.182132e+06</td>\n",
       "    </tr>\n",
       "    <tr>\n",
       "      <th>std</th>\n",
       "      <td>687.218253</td>\n",
       "      <td>51.578068</td>\n",
       "      <td>1763.689414</td>\n",
       "      <td>22421.745346</td>\n",
       "      <td>59057.023906</td>\n",
       "      <td>4110.379460</td>\n",
       "      <td>43329.572495</td>\n",
       "      <td>2.493074e+06</td>\n",
       "    </tr>\n",
       "    <tr>\n",
       "      <th>min</th>\n",
       "      <td>0.000000</td>\n",
       "      <td>0.000000</td>\n",
       "      <td>0.000000</td>\n",
       "      <td>0.000000</td>\n",
       "      <td>0.000000</td>\n",
       "      <td>0.000000</td>\n",
       "      <td>230.000000</td>\n",
       "      <td>1.102300e+04</td>\n",
       "    </tr>\n",
       "    <tr>\n",
       "      <th>25%</th>\n",
       "      <td>20.000000</td>\n",
       "      <td>0.000000</td>\n",
       "      <td>329.000000</td>\n",
       "      <td>23236.250000</td>\n",
       "      <td>138.000000</td>\n",
       "      <td>2.000000</td>\n",
       "      <td>45352.000000</td>\n",
       "      <td>9.426020e+05</td>\n",
       "    </tr>\n",
       "    <tr>\n",
       "      <th>50%</th>\n",
       "      <td>413.000000</td>\n",
       "      <td>7.000000</td>\n",
       "      <td>575.000000</td>\n",
       "      <td>37647.500000</td>\n",
       "      <td>84688.000000</td>\n",
       "      <td>6424.000000</td>\n",
       "      <td>71841.000000</td>\n",
       "      <td>2.721685e+06</td>\n",
       "    </tr>\n",
       "    <tr>\n",
       "      <th>75%</th>\n",
       "      <td>1133.000000</td>\n",
       "      <td>44.000000</td>\n",
       "      <td>896.000000</td>\n",
       "      <td>49360.250000</td>\n",
       "      <td>118172.000000</td>\n",
       "      <td>8962.000000</td>\n",
       "      <td>113664.000000</td>\n",
       "      <td>5.115490e+06</td>\n",
       "    </tr>\n",
       "    <tr>\n",
       "      <th>max</th>\n",
       "      <td>4042.000000</td>\n",
       "      <td>222.000000</td>\n",
       "      <td>23853.000000</td>\n",
       "      <td>159915.000000</td>\n",
       "      <td>196321.000000</td>\n",
       "      <td>9746.000000</td>\n",
       "      <td>165446.000000</td>\n",
       "      <td>8.644269e+06</td>\n",
       "    </tr>\n",
       "  </tbody>\n",
       "</table>\n",
       "</div>"
      ],
      "text/plain": [
       "       new_confirmed  new_deceased  ...  total_recovered  total_tested\n",
       "count     293.000000    293.000000  ...       193.000000  2.210000e+02\n",
       "mean      670.037543     33.262799  ...     79567.740933  3.182132e+06\n",
       "std       687.218253     51.578068  ...     43329.572495  2.493074e+06\n",
       "min         0.000000      0.000000  ...       230.000000  1.102300e+04\n",
       "25%        20.000000      0.000000  ...     45352.000000  9.426020e+05\n",
       "50%       413.000000      7.000000  ...     71841.000000  2.721685e+06\n",
       "75%      1133.000000     44.000000  ...    113664.000000  5.115490e+06\n",
       "max      4042.000000    222.000000  ...    165446.000000  8.644269e+06\n",
       "\n",
       "[8 rows x 8 columns]"
      ]
     },
     "execution_count": 4,
     "metadata": {
      "tags": []
     },
     "output_type": "execute_result"
    }
   ],
   "source": [
    "covid_data_ca_df.describe()"
   ]
  },
  {
   "cell_type": "markdown",
   "metadata": {
    "id": "SBdX77KTR6jJ"
   },
   "source": [
    "From the plot below we can see that the number of new cases has two peaks: from March to April and from September to October. Also, the number of testing is growing all the times."
   ]
  },
  {
   "cell_type": "code",
   "execution_count": 5,
   "metadata": {
    "colab": {
     "base_uri": "https://localhost:8080/",
     "height": 554
    },
    "id": "eLbU9LOLuZX9",
    "outputId": "81a08b6e-68dd-4389-d6a2-0ac003332630"
   },
   "outputs": [
    {
     "data": {
      "image/png": "[encoded data removed]",
      "text/plain": [
       "<Figure size 1152x576 with 1 Axes>"
      ]
     },
     "metadata": {
      "tags": []
     },
     "output_type": "display_data"
    }
   ],
   "source": [
    "import seaborn as sns\n",
    "sns.set()\n",
    "sns.set(rc={'figure.figsize':(16,8)})\n",
    "\n",
    "title = \"Monthly covid-19 data in Canada\"\n",
    "covid_monthly_df=covid_data_ca_df.resample('M').sum()\n",
    "covid_monthly_df.index = covid_monthly_df.index.strftime('%Y-%b')\n",
    "covid_monthly_df.plot(kind='bar',logy=True, rot=45, title=title);"
   ]
  },
  {
   "cell_type": "markdown",
   "metadata": {
    "id": "SVZBrZS2Sa84"
   },
   "source": [
    "Here we plot the dayly confirmed cases as well as 7, 14, 30 days moving average to see the overall trend. The graph is consistent with the conclusion that there are two waves in the pandemic."
   ]
  },
  {
   "cell_type": "code",
   "execution_count": 6,
   "metadata": {
    "colab": {
     "base_uri": "https://localhost:8080/",
     "height": 530
    },
    "id": "TZvEtSDhxzFY",
    "outputId": "0203032f-b0d0-497d-b1c6-db312d120384"
   },
   "outputs": [
    {
     "data": {
      "image/png": "[encoded data removed]",
      "text/plain": [
       "<Figure size 1152x576 with 1 Axes>"
      ]
     },
     "metadata": {
      "tags": []
     },
     "output_type": "display_data"
    }
   ],
   "source": [
    "# plot the number of daily confirmed new cases as a line plot\n",
    "title = \"The number of daily confirmed new cases in Canada\"\n",
    "\n",
    "ax = covid_data_ca_df['new_confirmed'].plot(kind='line', title=title, label='daily cases');\n",
    "# 7 days moving average\n",
    "covid_data_ca_df['new_confirmed'].rolling(window=2).mean().plot(kind='line',ax=ax, label='7 days moving avg');\n",
    "# 14 days moving average\n",
    "covid_data_ca_df['new_confirmed'].rolling(window=14).mean().plot(kind='line',ax=ax, label='14 days moving avg');\n",
    "# 30 days moving average\n",
    "covid_data_ca_df['new_confirmed'].rolling(window=30).mean().plot(kind='line',ax=ax, label='30 days moving avg');\n",
    "ax.legend();"
   ]
  },
  {
   "cell_type": "markdown",
   "metadata": {
    "id": "F0pGWFl2asor"
   },
   "source": [
    "### Twitter data"
   ]
  },
  {
   "cell_type": "markdown",
   "metadata": {
    "id": "gB7NlFBzax4V"
   },
   "source": [
    "In this section we collect twitter data relate to three Government of Canada accounts in the period from November 1, 2019 to October 1, 2020:\n",
    "\n",
    "* The Public Health Agency of Canada ([@GovCanHealth](https://twitter.com/govcanhealth))\n",
    "* The Chief Public Health Officer of Canada ([@CPHO_Canada](https://twitter.com/CPHO_Canada))\n",
    "* The Prime Minister of Canada ([@JustinTrudeau](https://twitter.com/JustinTrudeau))"
   ]
  },
  {
   "cell_type": "markdown",
   "metadata": {
    "id": "xgQRCJSK42gb"
   },
   "source": [
    "To collect the tweets we used a comand line [scraping tool](https://github.com/JustAnotherArchivist/snscrape/tree/master/snscrape) that provides us with a JSON file with the tweets and relevant information."
   ]
  },
  {
   "cell_type": "code",
   "execution_count": 7,
   "metadata": {
    "colab": {
     "base_uri": "https://localhost:8080/",
     "height": 267
    },
    "id": "PPXscdON49hL",
    "outputId": "8b296eda-659b-49d5-978e-3d7367f8a212"
   },
   "outputs": [
    {
     "data": {
      "text/html": [
       "<div>\n",
       "<style scoped>\n",
       "    .dataframe tbody tr th:only-of-type {\n",
       "        vertical-align: middle;\n",
       "    }\n",
       "\n",
       "    .dataframe tbody tr th {\n",
       "        vertical-align: top;\n",
       "    }\n",
       "\n",
       "    .dataframe thead th {\n",
       "        text-align: right;\n",
       "    }\n",
       "</style>\n",
       "<table border=\"1\" class=\"dataframe\">\n",
       "  <thead>\n",
       "    <tr style=\"text-align: right;\">\n",
       "      <th></th>\n",
       "      <th>url</th>\n",
       "      <th>date</th>\n",
       "      <th>content</th>\n",
       "      <th>renderedContent</th>\n",
       "      <th>id</th>\n",
       "      <th>user</th>\n",
       "      <th>outlinks</th>\n",
       "      <th>tcooutlinks</th>\n",
       "      <th>replyCount</th>\n",
       "      <th>retweetCount</th>\n",
       "      <th>likeCount</th>\n",
       "      <th>quoteCount</th>\n",
       "      <th>conversationId</th>\n",
       "      <th>lang</th>\n",
       "      <th>source</th>\n",
       "      <th>media</th>\n",
       "      <th>retweetedTweet</th>\n",
       "      <th>quotedTweet</th>\n",
       "      <th>mentionedUsers</th>\n",
       "    </tr>\n",
       "  </thead>\n",
       "  <tbody>\n",
       "    <tr>\n",
       "      <th>8291</th>\n",
       "      <td>https://twitter.com/JustinTrudeau/status/12302...</td>\n",
       "      <td>2020-02-19 22:45:17+00:00</td>\n",
       "      <td>Investing in housing changes peoples’ lives – ...</td>\n",
       "      <td>Investing in housing changes peoples’ lives – ...</td>\n",
       "      <td>1230262103673626624</td>\n",
       "      <td>{'username': 'JustinTrudeau', 'displayname': '...</td>\n",
       "      <td>[https://bit.ly/39OMUxT, https://twitter.com/H...</td>\n",
       "      <td>[https://t.co/O65LkMQiGn, https://t.co/liiTDMK...</td>\n",
       "      <td>211</td>\n",
       "      <td>98</td>\n",
       "      <td>560</td>\n",
       "      <td>26</td>\n",
       "      <td>1230262103673626624</td>\n",
       "      <td>en</td>\n",
       "      <td>&lt;a href=\"http://twitter.com/download/iphone\" r...</td>\n",
       "      <td>None</td>\n",
       "      <td>NaN</td>\n",
       "      <td>{'url': 'https://twitter.com/HonAhmedHussen/st...</td>\n",
       "      <td>[{'username': 'HonAhmedHussen', 'displayname':...</td>\n",
       "    </tr>\n",
       "    <tr>\n",
       "      <th>1647</th>\n",
       "      <td>https://twitter.com/GovCanHealth/status/124538...</td>\n",
       "      <td>2020-04-01 16:28:17+00:00</td>\n",
       "      <td>Use the Government of Canada COVID-19 app to g...</td>\n",
       "      <td>Use the Government of Canada COVID-19 app to g...</td>\n",
       "      <td>1245387519153377285</td>\n",
       "      <td>{'username': 'GovCanHealth', 'displayname': 'H...</td>\n",
       "      <td>[https://ca.thrive.health/]</td>\n",
       "      <td>[https://t.co/toL1iW3B1V]</td>\n",
       "      <td>23</td>\n",
       "      <td>519</td>\n",
       "      <td>465</td>\n",
       "      <td>40</td>\n",
       "      <td>1245387519153377285</td>\n",
       "      <td>en</td>\n",
       "      <td>&lt;a href=\"https://www.hootsuite.com\" rel=\"nofol...</td>\n",
       "      <td>[{'previewUrl': 'https://pbs.twimg.com/media/E...</td>\n",
       "      <td>NaN</td>\n",
       "      <td>None</td>\n",
       "      <td>None</td>\n",
       "    </tr>\n",
       "  </tbody>\n",
       "</table>\n",
       "</div>"
      ],
      "text/plain": [
       "                                                    url  ...                                     mentionedUsers\n",
       "8291  https://twitter.com/JustinTrudeau/status/12302...  ...  [{'username': 'HonAhmedHussen', 'displayname':...\n",
       "1647  https://twitter.com/GovCanHealth/status/124538...  ...                                               None\n",
       "\n",
       "[2 rows x 19 columns]"
      ]
     },
     "execution_count": 7,
     "metadata": {
      "tags": []
     },
     "output_type": "execute_result"
    }
   ],
   "source": [
    "TWEETER_DATA_FILE = 'TwitterData.json'\n",
    "tweets_json_df = pd.read_json(TWEETER_DATA_FILE, lines=True)\n",
    "tweets_json_df.sample(2)"
   ]
  },
  {
   "cell_type": "code",
   "execution_count": 8,
   "metadata": {
    "colab": {
     "base_uri": "https://localhost:8080/",
     "height": 34
    },
    "id": "a8c4tUbgKaVs",
    "outputId": "d7907705-c155-417d-d39a-7c57b4efeaa8"
   },
   "outputs": [
    {
     "data": {
      "text/plain": [
       "False"
      ]
     },
     "execution_count": 8,
     "metadata": {
      "tags": []
     },
     "output_type": "execute_result"
    }
   ],
   "source": [
    "# check for NaN values\n",
    "tweets_json_df['content'].isnull().values.any()"
   ]
  },
  {
   "cell_type": "code",
   "execution_count": 9,
   "metadata": {
    "colab": {
     "base_uri": "https://localhost:8080/",
     "height": 34
    },
    "id": "LmIMyDnULP_H",
    "outputId": "124ecd95-6b23-4c77-b1d3-caf1040fe542"
   },
   "outputs": [
    {
     "data": {
      "text/plain": [
       "0"
      ]
     },
     "execution_count": 9,
     "metadata": {
      "tags": []
     },
     "output_type": "execute_result"
    }
   ],
   "source": [
    "# check the number of empty tweets\n",
    "len(tweets_json_df[tweets_json_df['content'] == ''])"
   ]
  },
  {
   "cell_type": "markdown",
   "metadata": {
    "id": "-z-rBHLITUCh"
   },
   "source": [
    "Here we select the relevant tweeter data that we will use to build our dataset:"
   ]
  },
  {
   "cell_type": "code",
   "execution_count": 10,
   "metadata": {
    "colab": {
     "base_uri": "https://localhost:8080/",
     "height": 419
    },
    "id": "KVW1OrW4_V4i",
    "outputId": "72fd321d-5f66-4ee6-a499-4c66fd9ddb3f"
   },
   "outputs": [
    {
     "data": {
      "text/html": [
       "<div>\n",
       "<style scoped>\n",
       "    .dataframe tbody tr th:only-of-type {\n",
       "        vertical-align: middle;\n",
       "    }\n",
       "\n",
       "    .dataframe tbody tr th {\n",
       "        vertical-align: top;\n",
       "    }\n",
       "\n",
       "    .dataframe thead th {\n",
       "        text-align: right;\n",
       "    }\n",
       "</style>\n",
       "<table border=\"1\" class=\"dataframe\">\n",
       "  <thead>\n",
       "    <tr style=\"text-align: right;\">\n",
       "      <th></th>\n",
       "      <th>tweet_id</th>\n",
       "      <th>screen_name</th>\n",
       "      <th>created_at</th>\n",
       "      <th>text</th>\n",
       "    </tr>\n",
       "  </thead>\n",
       "  <tbody>\n",
       "    <tr>\n",
       "      <th>0</th>\n",
       "      <td>1311440757639778304</td>\n",
       "      <td>Health Canada and PHAC</td>\n",
       "      <td>2020-10-01</td>\n",
       "      <td>Join the 3 million Canadians already using #CO...</td>\n",
       "    </tr>\n",
       "    <tr>\n",
       "      <th>1</th>\n",
       "      <td>1311425668614414336</td>\n",
       "      <td>Health Canada and PHAC</td>\n",
       "      <td>2020-10-01</td>\n",
       "      <td>New data: 1,067 hospitalizations related to #o...</td>\n",
       "    </tr>\n",
       "    <tr>\n",
       "      <th>2</th>\n",
       "      <td>1311418088995291145</td>\n",
       "      <td>Health Canada and PHAC</td>\n",
       "      <td>2020-10-01</td>\n",
       "      <td>#ADVISORY : Allergan Inc. withdraws its drug #...</td>\n",
       "    </tr>\n",
       "    <tr>\n",
       "      <th>3</th>\n",
       "      <td>1311410580931084295</td>\n",
       "      <td>Health Canada and PHAC</td>\n",
       "      <td>2020-10-01</td>\n",
       "      <td>It’s #BackToSchool season, and that means #flu...</td>\n",
       "    </tr>\n",
       "    <tr>\n",
       "      <th>4</th>\n",
       "      <td>1311399188723363841</td>\n",
       "      <td>Health Canada and PHAC</td>\n",
       "      <td>2020-10-01</td>\n",
       "      <td>Good job Canada. 🇨🇦 The #COVIDAlert exposure n...</td>\n",
       "    </tr>\n",
       "    <tr>\n",
       "      <th>...</th>\n",
       "      <td>...</td>\n",
       "      <td>...</td>\n",
       "      <td>...</td>\n",
       "      <td>...</td>\n",
       "    </tr>\n",
       "    <tr>\n",
       "      <th>8985</th>\n",
       "      <td>1191181429759234049</td>\n",
       "      <td>Justin Trudeau</td>\n",
       "      <td>2019-11-04</td>\n",
       "      <td>@NLWildlife @Marner93 @91Tavares @MapleLeafs H...</td>\n",
       "    </tr>\n",
       "    <tr>\n",
       "      <th>8986</th>\n",
       "      <td>1190390048413368320</td>\n",
       "      <td>Justin Trudeau</td>\n",
       "      <td>2019-11-02</td>\n",
       "      <td>Our thoughts are with everyone affected by the...</td>\n",
       "    </tr>\n",
       "    <tr>\n",
       "      <th>8987</th>\n",
       "      <td>1190389980201443329</td>\n",
       "      <td>Justin Trudeau</td>\n",
       "      <td>2019-11-02</td>\n",
       "      <td>Nos pensées accompagnent toutes les personnes ...</td>\n",
       "    </tr>\n",
       "    <tr>\n",
       "      <th>8988</th>\n",
       "      <td>1190333824267407363</td>\n",
       "      <td>Justin Trudeau</td>\n",
       "      <td>2019-11-02</td>\n",
       "      <td>¡Gracias @lopezobrador_! We’ve made progress t...</td>\n",
       "    </tr>\n",
       "    <tr>\n",
       "      <th>8989</th>\n",
       "      <td>1190333757900935175</td>\n",
       "      <td>Justin Trudeau</td>\n",
       "      <td>2019-11-02</td>\n",
       "      <td>¡Gracias @lopezobrador_! La ratification du no...</td>\n",
       "    </tr>\n",
       "  </tbody>\n",
       "</table>\n",
       "<p>8990 rows × 4 columns</p>\n",
       "</div>"
      ],
      "text/plain": [
       "                 tweet_id  ...                                               text\n",
       "0     1311440757639778304  ...  Join the 3 million Canadians already using #CO...\n",
       "1     1311425668614414336  ...  New data: 1,067 hospitalizations related to #o...\n",
       "2     1311418088995291145  ...  #ADVISORY : Allergan Inc. withdraws its drug #...\n",
       "3     1311410580931084295  ...  It’s #BackToSchool season, and that means #flu...\n",
       "4     1311399188723363841  ...  Good job Canada. 🇨🇦 The #COVIDAlert exposure n...\n",
       "...                   ...  ...                                                ...\n",
       "8985  1191181429759234049  ...  @NLWildlife @Marner93 @91Tavares @MapleLeafs H...\n",
       "8986  1190390048413368320  ...  Our thoughts are with everyone affected by the...\n",
       "8987  1190389980201443329  ...  Nos pensées accompagnent toutes les personnes ...\n",
       "8988  1190333824267407363  ...  ¡Gracias @lopezobrador_! We’ve made progress t...\n",
       "8989  1190333757900935175  ...  ¡Gracias @lopezobrador_! La ratification du no...\n",
       "\n",
       "[8990 rows x 4 columns]"
      ]
     },
     "execution_count": 10,
     "metadata": {
      "tags": []
     },
     "output_type": "execute_result"
    }
   ],
   "source": [
    "twitter_data_df = pd.DataFrame()\n",
    "twitter_data_df['tweet_id'] = tweets_json_df['id']\n",
    "twitter_data_df['screen_name'] = pd.DataFrame.from_records(tweets_json_df['user'])['displayname']\n",
    "twitter_data_df['created_at'] = tweets_json_df['date'].apply(lambda x: x.tz_localize(None).round('D'))\n",
    "twitter_data_df['text'] = tweets_json_df['content']\n",
    "twitter_data_df"
   ]
  },
  {
   "cell_type": "markdown",
   "metadata": {
    "id": "unztKnOr58N0"
   },
   "source": [
    "Let's explore the twitter data. We can see that the Public Health Oficer of Canada tweets the most in the given time frame. While the Health Canada and the Prime Minister tweet about the same."
   ]
  },
  {
   "cell_type": "code",
   "execution_count": 11,
   "metadata": {
    "colab": {
     "base_uri": "https://localhost:8080/",
     "height": 631
    },
    "id": "FgP4e6pl7XsF",
    "outputId": "c9770584-ae52-44cf-dc23-236ba00a99b6"
   },
   "outputs": [
    {
     "data": {
      "image/png": "[encoded data removed]",
      "text/plain": [
       "<Figure size 1152x576 with 1 Axes>"
      ]
     },
     "metadata": {
      "tags": []
     },
     "output_type": "display_data"
    }
   ],
   "source": [
    "# the amount of tweets for each account\n",
    "import matplotlib.pyplot as plt\n",
    "plt.title('Number of Tweets per Account')\n",
    "twitter_data_df['screen_name'].value_counts().plot.bar();"
   ]
  },
  {
   "cell_type": "markdown",
   "metadata": {
    "id": "GhvWW1Oc8n2x"
   },
   "source": [
    "Let's count the number of tweets per day for each account and compare the dynamics between accounts. From the boxplot we can see that the Public Health Officer tweets the highest number of tweets per day while the Health Canada tweets the least number of tweets. However, the mean number of tweets per day is not significantly different betweet the three accounts."
   ]
  },
  {
   "cell_type": "code",
   "execution_count": 12,
   "metadata": {
    "colab": {
     "base_uri": "https://localhost:8080/",
     "height": 485
    },
    "id": "PJfOjMoy8yhd",
    "outputId": "926497a0-d761-4e0d-d5bd-97a537916cbf"
   },
   "outputs": [
    {
     "data": {
      "image/png": "[encoded data removed]",
      "text/plain": [
       "<Figure size 1152x576 with 1 Axes>"
      ]
     },
     "metadata": {
      "tags": []
     },
     "output_type": "display_data"
    }
   ],
   "source": [
    "def get_daily_freq(df):\n",
    "  # covert the date string to a datetime object\n",
    "  df.loc[:,'created_at'] = pd.to_datetime(df['created_at'])\n",
    "  # set data as an index in the dataframe\n",
    "  df.set_index('created_at', inplace=True)\n",
    "  return df.resample('d').count()['screen_name']\n",
    "\n",
    "accounts = twitter_data_df['screen_name'].unique()\n",
    "\n",
    "freq_df = pd.concat([\n",
    "get_daily_freq(twitter_data_df[twitter_data_df['screen_name'] == accounts[0]].copy()),\n",
    "get_daily_freq(twitter_data_df[twitter_data_df['screen_name'] == accounts[1]].copy()),\n",
    "get_daily_freq(twitter_data_df[twitter_data_df['screen_name'] == accounts[2]].copy())], axis=1)\n",
    "\n",
    "freq_df.columns = accounts\n",
    "\n",
    "freq_df.boxplot();"
   ]
  },
  {
   "cell_type": "markdown",
   "metadata": {
    "id": "9KY6yiD1FP3_"
   },
   "source": [
    "Let's clean the tweets to remove irrelevant text.\n",
    "We will start by detecting and removing non-english text from the dataframe.\n"
   ]
  },
  {
   "cell_type": "code",
   "execution_count": 13,
   "metadata": {
    "id": "p3dSc5jFsP-M"
   },
   "outputs": [],
   "source": [
    "%%capture \n",
    "!pip install langdetect\n",
    "from langdetect import detect"
   ]
  },
  {
   "cell_type": "code",
   "execution_count": 14,
   "metadata": {
    "id": "PiyN1V7LrPUq"
   },
   "outputs": [],
   "source": [
    "# detect language of a tweet\n",
    "lang_list = []\n",
    "for row in twitter_data_df['text'].to_list():\n",
    "    try:\n",
    "        lang_list += [detect(row)]\n",
    "    except:\n",
    "        lang_list += [\"error\"]\n",
    "        \n",
    "twitter_data_df['lang'] = lang_list"
   ]
  },
  {
   "cell_type": "markdown",
   "metadata": {
    "id": "3Z1_J0NjJFEk"
   },
   "source": [
    "As we can see from the bar graph the two health agencies mostly tweet in english whereas the Prime Menister tweets in english and french equally."
   ]
  },
  {
   "cell_type": "code",
   "execution_count": 15,
   "metadata": {
    "colab": {
     "base_uri": "https://localhost:8080/",
     "height": 665
    },
    "id": "8ylEIszsGrJI",
    "outputId": "6587c08b-9d6e-4018-851e-8bbf3ee785f3"
   },
   "outputs": [
    {
     "data": {
      "image/png": "[encoded data removed]",
      "text/plain": [
       "<Figure size 1152x576 with 1 Axes>"
      ]
     },
     "metadata": {
      "tags": []
     },
     "output_type": "display_data"
    }
   ],
   "source": [
    "import numpy as np\n",
    "lang_groups = twitter_data_df.groupby(['screen_name', 'lang'], group_keys =True).size()\n",
    "lang_groups.plot(kind=\"bar\", color=plt.cm.Paired(np.arange(lang_groups.shape[0])));"
   ]
  },
  {
   "cell_type": "code",
   "execution_count": 16,
   "metadata": {
    "id": "9mSI7gG6LVVi"
   },
   "outputs": [],
   "source": [
    "# remove non-english tweets\n",
    "non_eng_df = twitter_data_df[twitter_data_df['lang'] != 'en']\n",
    "twitter_data_df = twitter_data_df.drop(non_eng_df.index).reset_index(drop=True)\n",
    "\n",
    "# remove the language column\n",
    "twitter_data_df.drop('lang', axis=1, inplace=True, errors='ignore')"
   ]
  },
  {
   "cell_type": "markdown",
   "metadata": {
    "id": "dgGNRR0CVOMM"
   },
   "source": [
    "Let's take a look at random example of tweets in our dataset. We can see that there is a lot of information present. Hashtags, urls, mentions etc."
   ]
  },
  {
   "cell_type": "code",
   "execution_count": 17,
   "metadata": {
    "colab": {
     "base_uri": "https://localhost:8080/",
     "height": 173
    },
    "id": "cZfrxTcaiaHz",
    "outputId": "5a3fdbba-ec26-4ccc-9bb7-cc592ee105c7"
   },
   "outputs": [
    {
     "name": "stdout",
     "output_type": "stream",
     "text": [
      "Examples of tweets: \n",
      "\n",
      "3864    5/8 Also, people without symptoms may be infected with the virus. If you think you have been exposed to the virus, stay home and contact local #publichealth for advice on next steps, including when and how to seek testing.                                                    \n",
      "2369    #Vaping products can contain nicotine. Nicotine is known to alter teen brain development and can affect memory and concentration. Youth are particularly vulnerable to the health effects of nicotine.\\nLearn more: https://t.co/yIs1qM2SNq https://t.co/loIqSIteM4               \n",
      "6458    For the past few months, @cafreeland and I have been holding weekly calls with the premiers to make sure we’re moving forward together. Tonight was our 15th call, and we spoke about the safe restart of our economy and making sure everyone has the support they need.         \n",
      "2572    Shovelling the snow ❄️  can be a great way to #getactive! Make sure your little helpers are dressed warmly and before you begin this physical task start with some basic stretches. Get tips on shovelling with care : https://t.co/vjPkclUCpR #HeartSmart https://t.co/d5ny1qPy8H\n",
      "6484    @AnneMurrayCentr Wishing a happy 75th to @AnneMurray1... one of Springhill’s finest and one of the greatest voices and biggest icons our country has ever known!                                                                                                                  \n",
      "Name: text, dtype: object\n"
     ]
    }
   ],
   "source": [
    "print('Examples of tweets: \\n')\n",
    "with pd.option_context('display.max_colwidth', -1):\n",
    "  print(twitter_data_df.sample(5)['text'])"
   ]
  },
  {
   "cell_type": "markdown",
   "metadata": {
    "id": "WtTJJQ5HihXP"
   },
   "source": [
    "Here we will explore hashtags in the text as it may help us to identify whether a tweet is related to Covid-19. Let's start with counting all the hashtags:"
   ]
  },
  {
   "cell_type": "code",
   "execution_count": 18,
   "metadata": {
    "colab": {
     "base_uri": "https://localhost:8080/",
     "height": 634
    },
    "id": "0VrDPlhGUF_F",
    "outputId": "245330e3-0c09-4c3b-dbb4-a04edd360c9e"
   },
   "outputs": [
    {
     "data": {
      "image/png": "[encoded data removed]",
      "text/plain": [
       "<Figure size 1152x576 with 1 Axes>"
      ]
     },
     "metadata": {
      "tags": []
     },
     "output_type": "display_data"
    }
   ],
   "source": [
    "import re\n",
    "\n",
    "# count all hashtags\n",
    "HASHTAG_PATTERN = re.compile(r'(?P<hashtag>#\\w*)')\n",
    "hashtag_counts_df = twitter_data_df['text'].str.extractall(HASHTAG_PATTERN).value_counts()\n",
    "hashtag_counts_df = pd.DataFrame(hashtag_counts_df.values, hashtag_counts_df.index.get_level_values(0),['counts'])\n",
    "\n",
    "k = 25\n",
    "# TODO: desplay each tag as a distribution of values between the three accounts\n",
    "hashtag_counts_df[:k].plot.bar(title=f'Top {k} hashtags');"
   ]
  },
  {
   "cell_type": "markdown",
   "metadata": {
    "id": "S9iehme3tGxm"
   },
   "source": [
    "As we can see from the above graph the #covid19 hashtag accounts for the majority of all hashtags. Therefore, we can conclude that there is a lot of covid19 related information in the tweets. Additionally, we can see that the accounts try to inform the public about specific measures that may prevents the spread of the virus such as physical distancing, handwashing and staying at home if sick.\n",
    "\n",
    "At the same time there are some irrelevant to covid-19 hashtags (#GOC, #recall etc) that may by an indicator that there is no virus ralated information in the tweets."
   ]
  },
  {
   "cell_type": "markdown",
   "metadata": {
    "id": "AZH7psVsa0Y_"
   },
   "source": [
    "### Dataset building"
   ]
  },
  {
   "cell_type": "markdown",
   "metadata": {
    "id": "w1NjjG_DbC2j"
   },
   "source": [
    "Here we will build two datasets. \n",
    "\n",
    "The first dataset will be based on the assumption that today's tweet will get a label using the number of new cases intomorrow day. The second dataset will be based on the assumption that a tweet published today will get a label using the number of new cases in 14 days after the tweet is posted.\n",
    "\n",
    "We will use following encodings for the labels:\n",
    "\n",
    "* $+1$ - Increase the spread of COVID19\n",
    "*  $0$ - No change on the spread of COVID19\n",
    "* $-1$ - Decrease the spread of COVID19\n"
   ]
  },
  {
   "cell_type": "markdown",
   "metadata": {
    "id": "kwu3jZ2jlysh"
   },
   "source": [
    "To encode the tweets we will use contextual word embeddings from the BERT language model which was finetuned on covid-19 related twitter data."
   ]
  },
  {
   "cell_type": "markdown",
   "metadata": {
    "id": "5z0P1lXYgP46"
   },
   "source": [
    "Let's clean the tweets according to the data that the BERT covid-19 model was trained on. For this we will use the preprocessing script from the [COVID-Twitter-BERT](https://github.com/digitalepidemiologylab/covid-twitter-bert) repository:"
   ]
  },
  {
   "cell_type": "code",
   "execution_count": 19,
   "metadata": {
    "id": "cGUC-eL8hRp6"
   },
   "outputs": [],
   "source": [
    "%%capture\n",
    "!rm -rf covid-twitter-bert/\n",
    "!git clone https://github.com/digitalepidemiologylab/covid-twitter-bert.git\n",
    "!pip install -r covid-twitter-bert/requirements.txt\n",
    "!pip install -q tf-models-official==2.3.0"
   ]
  },
  {
   "cell_type": "code",
   "execution_count": 20,
   "metadata": {
    "id": "FEaaAwBvmOYK"
   },
   "outputs": [],
   "source": [
    "# In order to use the preprocessing twitter script we need to\n",
    "# creat a tsv file with the tweets and mock lables\n",
    "dataset_df = pd.DataFrame({\n",
    "    'text'  : twitter_data_df['text'],\n",
    "    'label' : [0]*len(twitter_data_df)\n",
    "})\n",
    "\n",
    "dataset_df.index.name = 'id'\n",
    "\n",
    "# save tweets to tsv\n",
    "dataset_df.to_csv('dataset.tsv',sep='\\t')"
   ]
  },
  {
   "cell_type": "markdown",
   "metadata": {
    "id": "HhbTukVKhogV"
   },
   "source": [
    "Cleaning the tweets:"
   ]
  },
  {
   "cell_type": "code",
   "execution_count": 21,
   "metadata": {
    "id": "M0wzJibVhm7_"
   },
   "outputs": [],
   "source": [
    "# here we preprocess the twitter data according to the bert model\n",
    "# The preprocessing will replace usernames and urls with <twitteruser> and <twitterurl>\n",
    "# with some additional tranformation such making all word lower case\n",
    "%%capture\n",
    "%cd covid-twitter-bert/preprocess/\n",
    "!python create_predict_data.py --input_txt_file ../../dataset.tsv\n",
    "%cd ../../"
   ]
  },
  {
   "cell_type": "markdown",
   "metadata": {
    "id": "DjxkQrIJ3dhV"
   },
   "source": [
    "Read preprocessed clean tweets:"
   ]
  },
  {
   "cell_type": "code",
   "execution_count": 22,
   "metadata": {
    "id": "V8NmMFAqlLhW"
   },
   "outputs": [],
   "source": [
    "import glob\n",
    "import os\n",
    "\n",
    "list_of_files = glob.glob('covid-twitter-bert/data/predict_data/*/preprocessed/')\n",
    "latest_file = max(list_of_files, key=os.path.getctime)\n",
    "\n",
    "# read the file with clean tweets\n",
    "file_content = open(latest_file + 'dataset.tsv', 'r').read()\n",
    "\n",
    "# remove header\n",
    "file_content = file_content.replace(\"id text label\\n\",\"\",1)\n",
    "# split file by delimiter\n",
    "clean_tweets_list = re.split(' 0\\n(?=\\d+)', file_content)\n",
    "# remove index\n",
    "clean_tweets_list = [re.sub('\\d+ ', '', tweet) for tweet in clean_tweets_list]\n",
    "# add to the dataframe\n",
    "twitter_data_df['clean_text'] = clean_tweets_list"
   ]
  },
  {
   "cell_type": "markdown",
   "metadata": {
    "id": "zE-QsnH_508t"
   },
   "source": [
    "Now we are ready to get BERT embeddings. We will use the feature extraction pipeline from the transformers library. The feature extraction pipeline will return a word embedding for every token in the input. To get a tweet embedding we will remove the first and last word embeddings that corespond to the [CLS] and [SEP] tokens and average all the remaining embeddings."
   ]
  },
  {
   "cell_type": "code",
   "execution_count": 23,
   "metadata": {
    "id": "2OzBHENNQG7u"
   },
   "outputs": [],
   "source": [
    "%%capture\n",
    "!pip install transformers"
   ]
  },
  {
   "cell_type": "code",
   "execution_count": 24,
   "metadata": {
    "colab": {
     "base_uri": "https://localhost:8080/",
     "height": 311,
     "referenced_widgets": [
      "e00422c43c85418fb5d9ec2b1b1234eb",
      "73c14bd3bec04507a537fca1b7df3a4f",
      "86cf2c8f744e46a794b03eb063e24a14",
      "48ff1b1df72b42f0b9d2c48f0cb021be",
      "8107a50309394082b21ccd7216708912",
      "24c5ab3230504a6c9b9e5d2cc1e3a86d",
      "b7483f3acdbb466382e59153c84b7937",
      "1399b77e615e4823a2ccf21939952dfd",
      "63f847b072bc4cf9ae55f5de1f0d725e",
      "e23315d2b6c24c6fbd86517f049a114e",
      "7d4f7f381aef464a9b1eefe1203ef1a1",
      "e7b1940fad7c4a4f91d9cffba5faa365",
      "db74dc52479c4505a77520ec4aafa9d4",
      "91a1a24e56eb42aaaef251041c36627b",
      "5b25e86e5c4f43eb88973d9fc0cb2bec",
      "057df290c4204d71a6f0f31d1c88a524",
      "453ee13ab76f4eb19cfa53b4aa4118f7",
      "20e392465089448a9be79e41aca9474c",
      "46d840ca8f81416086a07eb0cfe50036",
      "2865b21ee5574158a67a4844b8b2f333",
      "555fc902b8824b449b125679ad87a89d",
      "3cef03e363f445b1a381be9df5e63301",
      "acb392b44ab7481a99ecee920bfd3b46",
      "8805cc23bb554c5aaac3d16c39836730",
      "a6ff7647321744589a5f6630180c5b6a",
      "e82ee99dc6504697b226a9592a521460",
      "a2eb8f9648b746618845eef52174265a",
      "84459b97188b433ebe37618abd95815d",
      "71d32f2c94c54eaaaeea61e2d7e579d0",
      "13e16ab4c5444324abbe0ddba23bfa24",
      "78ef0ed9bb784554b32eb74443a4c4e6",
      "94f0a0d28d3b41669598a9bfcfdc4932",
      "22012acf285541f087fc43e1e76dfb51",
      "b7ff0b306e51428d8893b82fd0bcaa25",
      "300158869c1246c5bcab9091cb47f467",
      "0d1a83cdb627420e937fe09ab4049ba1",
      "38acde90e92a429daee7b57ba95bcf6b",
      "4e48d5b499414f8ba416ee93a6575cc0",
      "f604e771888d433093ef8a35634b7548",
      "ebdad3b7ddf74cbeb55b00d18aa5c375",
      "ba1e4b9dede8429cacfdfe40b87881a3",
      "7583dc6d5ee34d91afabb573fcd589dd",
      "2bca2aaad6a74f60bae3b0899022879e",
      "b957a4903b6248b8bc3203b72b24db63",
      "d149d73f4b4c4f86ad0c742209b2fc17",
      "b4b4f796699e4b4bb8a7bf5aa80926f9",
      "a945ef88842848a69a2b0bf5979edfa5",
      "ccdf3f0d79624d4ab7702fb8ecaec8d3"
     ]
    },
    "id": "MAkHAaPIRgcm",
    "outputId": "a6767ae3-37f6-4766-b05e-f831cf525ca3"
   },
   "outputs": [
    {
     "data": {
      "application/vnd.jupyter.widget-view+json": {
       "model_id": "e00422c43c85418fb5d9ec2b1b1234eb",
       "version_major": 2,
       "version_minor": 0
      },
      "text/plain": [
       "HBox(children=(FloatProgress(value=0.0, description='Downloading', max=421.0, style=ProgressStyle(description_…"
      ]
     },
     "metadata": {
      "tags": []
     },
     "output_type": "display_data"
    },
    {
     "name": "stdout",
     "output_type": "stream",
     "text": [
      "\n"
     ]
    },
    {
     "data": {
      "application/vnd.jupyter.widget-view+json": {
       "model_id": "63f847b072bc4cf9ae55f5de1f0d725e",
       "version_major": 2,
       "version_minor": 0
      },
      "text/plain": [
       "HBox(children=(FloatProgress(value=0.0, description='Downloading', max=231508.0, style=ProgressStyle(descripti…"
      ]
     },
     "metadata": {
      "tags": []
     },
     "output_type": "display_data"
    },
    {
     "name": "stdout",
     "output_type": "stream",
     "text": [
      "\n"
     ]
    },
    {
     "data": {
      "application/vnd.jupyter.widget-view+json": {
       "model_id": "453ee13ab76f4eb19cfa53b4aa4118f7",
       "version_major": 2,
       "version_minor": 0
      },
      "text/plain": [
       "HBox(children=(FloatProgress(value=0.0, description='Downloading', max=112.0, style=ProgressStyle(description_…"
      ]
     },
     "metadata": {
      "tags": []
     },
     "output_type": "display_data"
    },
    {
     "name": "stdout",
     "output_type": "stream",
     "text": [
      "\n"
     ]
    },
    {
     "data": {
      "application/vnd.jupyter.widget-view+json": {
       "model_id": "a6ff7647321744589a5f6630180c5b6a",
       "version_major": 2,
       "version_minor": 0
      },
      "text/plain": [
       "HBox(children=(FloatProgress(value=0.0, description='Downloading', max=62.0, style=ProgressStyle(description_w…"
      ]
     },
     "metadata": {
      "tags": []
     },
     "output_type": "display_data"
    },
    {
     "name": "stdout",
     "output_type": "stream",
     "text": [
      "\n"
     ]
    },
    {
     "data": {
      "application/vnd.jupyter.widget-view+json": {
       "model_id": "22012acf285541f087fc43e1e76dfb51",
       "version_major": 2,
       "version_minor": 0
      },
      "text/plain": [
       "HBox(children=(FloatProgress(value=0.0, description='Downloading', max=1345068539.0, style=ProgressStyle(descr…"
      ]
     },
     "metadata": {
      "tags": []
     },
     "output_type": "display_data"
    },
    {
     "name": "stdout",
     "output_type": "stream",
     "text": [
      "\n"
     ]
    },
    {
     "data": {
      "application/vnd.jupyter.widget-view+json": {
       "model_id": "ba1e4b9dede8429cacfdfe40b87881a3",
       "version_major": 2,
       "version_minor": 0
      },
      "text/plain": [
       "HBox(children=(FloatProgress(value=0.0, max=7581.0), HTML(value='')))"
      ]
     },
     "metadata": {
      "tags": []
     },
     "output_type": "display_data"
    },
    {
     "name": "stdout",
     "output_type": "stream",
     "text": [
      "\n"
     ]
    }
   ],
   "source": [
    "from transformers import pipeline\n",
    "import numpy as np\n",
    "import tqdm\n",
    "\n",
    "# Create the feature extraction pipeline with the COVID-19 twitter BERT model.\n",
    "# Also, by specifing the device id we enable the use of GPU\n",
    "model_name = 'digitalepidemiologylab/covid-twitter-bert-v2'\n",
    "pipe = pipeline(task='feature-extraction', model=model_name, framework='pt',device=0)\n",
    "\n",
    "tweet_embeddings = []\n",
    "for tweet in tqdm.notebook.tqdm(clean_tweets_list):\n",
    "    embeddings = np.array(pipe(tweet)).squeeze(0)\n",
    "    tweet_embeddings += [embeddings[1:-1,:].mean(axis=0)]"
   ]
  },
  {
   "cell_type": "markdown",
   "metadata": {
    "id": "qCl2I2FJIkam"
   },
   "source": [
    "We will use KMeans to find proper boundaries for the number of COVID-19 cases to assign a label."
   ]
  },
  {
   "cell_type": "code",
   "execution_count": 25,
   "metadata": {
    "id": "rmZuuTAW6L5V"
   },
   "outputs": [],
   "source": [
    "from nltk.cluster import KMeansClusterer\n",
    "import nltk\n",
    "\n",
    "kclusterer = KMeansClusterer(3,  distance=nltk.cluster.util.cosine_distance, repeats=25)\n",
    "assigned_clusters = kclusterer.cluster(tweet_embeddings, assign_clusters=True)\n",
    "twitter_data_df['cluster'] = assigned_clusters"
   ]
  },
  {
   "cell_type": "markdown",
   "metadata": {
    "id": "h2rZov4tWUXM"
   },
   "source": [
    "Here we extract the change in daily cases for two assumptions. The first assumption is today tweet will have the value of tomorrow new cases. The second assumption is today tweet will have the value of new cases in 14 days."
   ]
  },
  {
   "cell_type": "code",
   "execution_count": 26,
   "metadata": {
    "id": "TArcNiZXl88s"
   },
   "outputs": [],
   "source": [
    "# get number of new cases with an offset in days\n",
    "def get_num_of_cases(offset_days = 0):\n",
    "    records = []\n",
    "    for t in twitter_data_df.created_at+pd.DateOffset(days=offset_days):\n",
    "        if t in covid_data_ca_df.index:\n",
    "            records += [covid_data_ca_df.loc[[t]]['new_confirmed'].values[0]]\n",
    "        else:\n",
    "            records += [0]\n",
    "    return records"
   ]
  },
  {
   "cell_type": "markdown",
   "metadata": {
    "id": "M9XVWUecWYxd"
   },
   "source": [
    "We will generate the difference in the new cases from in 1 day and in 14 day\n",
    "we will use this information during the lable assignment."
   ]
  },
  {
   "cell_type": "code",
   "execution_count": 27,
   "metadata": {
    "colab": {
     "base_uri": "https://localhost:8080/",
     "height": 502
    },
    "id": "mO5WAmkW6d9T",
    "outputId": "2bc27f14-27ad-4f09-950e-00684d7897a6"
   },
   "outputs": [
    {
     "data": {
      "image/png": "[encoded data removed]",
      "text/plain": [
       "<Figure size 1152x576 with 1 Axes>"
      ]
     },
     "metadata": {
      "tags": []
     },
     "output_type": "display_data"
    }
   ],
   "source": [
    "today_cases = get_num_of_cases(offset_days=0)\n",
    "one_day_cases = get_num_of_cases(offset_days=1)\n",
    "forteen_day_cases = get_num_of_cases(offset_days=14)\n",
    "\n",
    "twitter_data_df['1_day_new_cases'] = [val_2 - val_1 for (val_1, val_2) in zip(today_cases, one_day_cases)]\n",
    "twitter_data_df['14_days_new_cases'] = [val_2 - val_1 for (val_1, val_2) in zip(today_cases, forteen_day_cases)]\n",
    "\n",
    "# plot the difference in new cases\n",
    "ax = twitter_data_df['1_day_new_cases'].plot(kind=\"line\", label='1 day difference')\n",
    "ax = twitter_data_df['14_days_new_cases'].plot(kind=\"line\",label='14 day difference',ax=ax)\n",
    "ax.legend();"
   ]
  },
  {
   "cell_type": "markdown",
   "metadata": {
    "id": "DWPDYslYylQB"
   },
   "source": [
    "Let's explore the boundaries of the number of new cases in each cluster to assign lables:"
   ]
  },
  {
   "cell_type": "code",
   "execution_count": 28,
   "metadata": {
    "colab": {
     "base_uri": "https://localhost:8080/",
     "height": 173
    },
    "id": "2kZN-qYpvk5X",
    "outputId": "dee5245d-212d-4f4f-eba2-1517aad4b090"
   },
   "outputs": [
    {
     "data": {
      "text/html": [
       "<div>\n",
       "<style scoped>\n",
       "    .dataframe tbody tr th:only-of-type {\n",
       "        vertical-align: middle;\n",
       "    }\n",
       "\n",
       "    .dataframe tbody tr th {\n",
       "        vertical-align: top;\n",
       "    }\n",
       "\n",
       "    .dataframe thead th {\n",
       "        text-align: right;\n",
       "    }\n",
       "</style>\n",
       "<table border=\"1\" class=\"dataframe\">\n",
       "  <thead>\n",
       "    <tr style=\"text-align: right;\">\n",
       "      <th></th>\n",
       "      <th>1_day_new_cases</th>\n",
       "      <th>14_days_new_cases</th>\n",
       "    </tr>\n",
       "    <tr>\n",
       "      <th>cluster</th>\n",
       "      <th></th>\n",
       "      <th></th>\n",
       "    </tr>\n",
       "  </thead>\n",
       "  <tbody>\n",
       "    <tr>\n",
       "      <th>0</th>\n",
       "      <td>11.81 (+/-242.46)</td>\n",
       "      <td>128.32 (+/-453.34)</td>\n",
       "    </tr>\n",
       "    <tr>\n",
       "      <th>1</th>\n",
       "      <td>6.61 (+/-204.82)</td>\n",
       "      <td>94.83 (+/-457.53)</td>\n",
       "    </tr>\n",
       "    <tr>\n",
       "      <th>2</th>\n",
       "      <td>8.98 (+/-195.59)</td>\n",
       "      <td>120.53 (+/-412.39)</td>\n",
       "    </tr>\n",
       "  </tbody>\n",
       "</table>\n",
       "</div>"
      ],
      "text/plain": [
       "           1_day_new_cases   14_days_new_cases\n",
       "cluster                                       \n",
       "0        11.81 (+/-242.46)  128.32 (+/-453.34)\n",
       "1         6.61 (+/-204.82)   94.83 (+/-457.53)\n",
       "2         8.98 (+/-195.59)  120.53 (+/-412.39)"
      ]
     },
     "execution_count": 28,
     "metadata": {
      "tags": []
     },
     "output_type": "execute_result"
    }
   ],
   "source": [
    "# meand and standard deviation for each of the clusters\n",
    "group = twitter_data_df.drop('tweet_id',axis=1).groupby('cluster')\n",
    "group.mean().round(2).astype(str) +\" (+/-\"+ group.std().round(2).astype(str) +\")\""
   ]
  },
  {
   "cell_type": "code",
   "execution_count": 29,
   "metadata": {
    "colab": {
     "base_uri": "https://localhost:8080/",
     "height": 173
    },
    "id": "5cwb3f0Ll7iz",
    "outputId": "6413d38f-548f-4888-96f4-af4338941c4b"
   },
   "outputs": [
    {
     "data": {
      "text/html": [
       "<div>\n",
       "<style scoped>\n",
       "    .dataframe tbody tr th:only-of-type {\n",
       "        vertical-align: middle;\n",
       "    }\n",
       "\n",
       "    .dataframe tbody tr th {\n",
       "        vertical-align: top;\n",
       "    }\n",
       "\n",
       "    .dataframe thead th {\n",
       "        text-align: right;\n",
       "    }\n",
       "</style>\n",
       "<table border=\"1\" class=\"dataframe\">\n",
       "  <thead>\n",
       "    <tr style=\"text-align: right;\">\n",
       "      <th></th>\n",
       "      <th>1_day_new_cases</th>\n",
       "      <th>14_days_new_cases</th>\n",
       "    </tr>\n",
       "    <tr>\n",
       "      <th>cluster</th>\n",
       "      <th></th>\n",
       "      <th></th>\n",
       "    </tr>\n",
       "  </thead>\n",
       "  <tbody>\n",
       "    <tr>\n",
       "      <th>0</th>\n",
       "      <td>-230.65 : 254.28</td>\n",
       "      <td>-325.02 : 581.66</td>\n",
       "    </tr>\n",
       "    <tr>\n",
       "      <th>1</th>\n",
       "      <td>-198.22 : 211.43</td>\n",
       "      <td>-362.7 : 552.37</td>\n",
       "    </tr>\n",
       "    <tr>\n",
       "      <th>2</th>\n",
       "      <td>-186.61 : 204.56</td>\n",
       "      <td>-291.86 : 532.93</td>\n",
       "    </tr>\n",
       "  </tbody>\n",
       "</table>\n",
       "</div>"
      ],
      "text/plain": [
       "          1_day_new_cases 14_days_new_cases\n",
       "cluster                                    \n",
       "0        -230.65 : 254.28  -325.02 : 581.66\n",
       "1        -198.22 : 211.43   -362.7 : 552.37\n",
       "2        -186.61 : 204.56  -291.86 : 532.93"
      ]
     },
     "execution_count": 29,
     "metadata": {
      "tags": []
     },
     "output_type": "execute_result"
    }
   ],
   "source": [
    "# boundaries of new cases for each of the clusters\n",
    "left_boundaries = group.mean() - group.std()\n",
    "right_boundaries = group.mean() + group.std()\n",
    "left_boundaries.round(2).astype(str) + ' : ' + right_boundaries.round(2).astype(str)"
   ]
  },
  {
   "cell_type": "markdown",
   "metadata": {
    "id": "jNFC8RG_9okV"
   },
   "source": [
    "As we can see there is a lot of variation in the number of new cases in the clusters. Also, there is a significant overlap between the boundaries. This is probably because the tweets don't correlate much with the number of new cases which means the impact of a tweet is very small. \n",
    "\n",
    "Let's use a simple heuristics instead. We will assign 'no change' if the number of new cases falls within the boundaries of the cluster with the shortest interval. If the value of new cases is bigger than that interval we will assign \"increase in cases\" and \"decrease in cases\" otherwise."
   ]
  },
  {
   "cell_type": "code",
   "execution_count": 30,
   "metadata": {
    "id": "Xze___A1BcWd"
   },
   "outputs": [],
   "source": [
    "shortest_1_day_interval = [left_boundaries.max()['1_day_new_cases'], right_boundaries.min()['1_day_new_cases']]\n",
    "shortest_14_day_interval = [left_boundaries.max()['14_days_new_cases'], right_boundaries.min()['14_days_new_cases']]"
   ]
  },
  {
   "cell_type": "code",
   "execution_count": 31,
   "metadata": {
    "id": "zub_H84XA0DB"
   },
   "outputs": [],
   "source": [
    "def get_label(x, interval):\n",
    "    if x > interval[0] and x < interval[1]:\n",
    "        return 0 # no change\n",
    "    elif x < interval[0]:\n",
    "        return -1 # decrease\n",
    "    else:\n",
    "        return 1 # increase\n",
    "\n",
    "twitter_data_df['1_day_label'] = twitter_data_df['1_day_new_cases'].apply(lambda x: get_label(x, shortest_1_day_interval))\n",
    "twitter_data_df['14_day_label'] = twitter_data_df['14_days_new_cases'].apply(lambda x: get_label(x, shortest_14_day_interval))"
   ]
  },
  {
   "cell_type": "code",
   "execution_count": 32,
   "metadata": {
    "colab": {
     "base_uri": "https://localhost:8080/",
     "height": 486
    },
    "id": "O7N4djyqDPdv",
    "outputId": "7e9fa904-d628-430f-9208-26485a7b4c4e"
   },
   "outputs": [
    {
     "data": {
      "image/png": "[encoded data removed]",
      "text/plain": [
       "<Figure size 1152x576 with 1 Axes>"
      ]
     },
     "metadata": {
      "tags": []
     },
     "output_type": "display_data"
    }
   ],
   "source": [
    "# let's plot the discribution of cases for 1 day\n",
    "ax = twitter_data_df['1_day_label'].value_counts().plot.bar(label='1 day labels')\n",
    "ax.legend();"
   ]
  },
  {
   "cell_type": "code",
   "execution_count": 33,
   "metadata": {
    "colab": {
     "base_uri": "https://localhost:8080/",
     "height": 486
    },
    "id": "EDfeKIl7FDaq",
    "outputId": "a42319ac-6c19-4902-991e-10dd2a6e8784"
   },
   "outputs": [
    {
     "data": {
      "image/png": "[encoded data removed]",
      "text/plain": [
       "<Figure size 1152x576 with 1 Axes>"
      ]
     },
     "metadata": {
      "tags": []
     },
     "output_type": "display_data"
    }
   ],
   "source": [
    "# let's plot the discribution of cases for 14 day\n",
    "ax = twitter_data_df['14_day_label'].value_counts().plot.bar(label='14 days labels',color='green')\n",
    "ax.legend();"
   ]
  },
  {
   "cell_type": "markdown",
   "metadata": {
    "id": "165ApsgYD4eW"
   },
   "source": [
    "Additionaly, we will visualize embeddings to see if they form any clasters. Here we are using t-SNE to project the tweet embedding on to a plane."
   ]
  },
  {
   "cell_type": "code",
   "execution_count": 36,
   "metadata": {
    "colab": {
     "base_uri": "https://localhost:8080/",
     "height": 497
    },
    "id": "_Rsk6ncS__Ny",
    "outputId": "cd6f2279-9f54-4ec5-bd81-ba1374bd6685"
   },
   "outputs": [
    {
     "data": {
      "image/png": "[encoded data removed]",
      "text/plain": [
       "<Figure size 1152x576 with 1 Axes>"
      ]
     },
     "metadata": {
      "tags": []
     },
     "output_type": "display_data"
    }
   ],
   "source": [
    "from sklearn.manifold import TSNE\n",
    "from sklearn.cluster import KMeans\n",
    "\n",
    "reduced_data = TSNE(n_components=2,perplexity=45,n_iter=1500).fit_transform(tweet_embeddings)\n",
    "kmeans = KMeans(init='k-means++', n_clusters=3, n_init=10)\n",
    "kmeans.fit(reduced_data)\n",
    "\n",
    "# Step size of the mesh. Decrease to increase the quality of the VQ.\n",
    "h = .02     # point in the mesh [x_min, x_max]x[y_min, y_max].\n",
    "\n",
    "# Plot the decision boundary. For that, we will assign a color to each\n",
    "x_min, x_max = reduced_data[:, 0].min() - 1, reduced_data[:, 0].max() + 1\n",
    "y_min, y_max = reduced_data[:, 1].min() - 1, reduced_data[:, 1].max() + 1\n",
    "xx, yy = np.meshgrid(np.arange(x_min, x_max, h), np.arange(y_min, y_max, h))\n",
    "\n",
    "# Obtain labels for each point in mesh. Use last trained model.\n",
    "Z = kmeans.predict(np.c_[xx.ravel(), yy.ravel()])\n",
    "\n",
    "# Put the result into a color plot\n",
    "Z = Z.reshape(xx.shape)\n",
    "plt.figure(1)\n",
    "plt.clf()\n",
    "plt.imshow(Z, interpolation='nearest',\n",
    "           extent=(xx.min(), xx.max(), yy.min(), yy.max()),\n",
    "           cmap=plt.cm.Paired,\n",
    "           aspect='auto', origin='lower')\n",
    "\n",
    "plt.plot(reduced_data[:, 0], reduced_data[:, 1], 'k.', markersize=2)\n",
    "# Plot the centroids as a white X\n",
    "centroids = kmeans.cluster_centers_\n",
    "plt.scatter(centroids[:, 0], centroids[:, 1],\n",
    "            marker='x', s=169, linewidths=3,\n",
    "            color='w', zorder=10)\n",
    "plt.title('K-means clustering on the tweet embeddings (t-SNE-reduced data)\\n'\n",
    "          'Centroids are marked with white cross')\n",
    "plt.xlim(x_min, x_max)\n",
    "plt.ylim(y_min, y_max)\n",
    "plt.xticks(())\n",
    "plt.yticks(())\n",
    "plt.show()"
   ]
  },
  {
   "cell_type": "markdown",
   "metadata": {
    "id": "o0SVWr4ObD0B"
   },
   "source": [
    "## Model A building"
   ]
  },
  {
   "cell_type": "markdown",
   "metadata": {
    "id": "99qUBsFQFqxM"
   },
   "source": [
    "We will use a random forest as a model because it has a good trade-off between bias and variance and also efficient for big data.\n",
    "\n",
    "Additionaly, we will split the datasets on training, validation and testing splits."
   ]
  },
  {
   "cell_type": "code",
   "execution_count": 37,
   "metadata": {
    "id": "dZNswPVIGhBY"
   },
   "outputs": [],
   "source": [
    "train_df = twitter_data_df[twitter_data_df['created_at'] < '2020-04-01']\n",
    "val_df = twitter_data_df[(twitter_data_df['created_at'] > '2020-04-01') & (twitter_data_df['created_at'] < '2020-09-01')]\n",
    "test_df = twitter_data_df[twitter_data_df['created_at'] > '2020-09-01']"
   ]
  },
  {
   "cell_type": "code",
   "execution_count": 38,
   "metadata": {
    "id": "-08nXI17IVWX"
   },
   "outputs": [],
   "source": [
    "X_train = np.array(tweet_embeddings)[train_df.index.to_list()]\n",
    "y_train = train_df['1_day_label'].to_numpy()\n",
    "\n",
    "X_val = np.array(tweet_embeddings)[val_df.index.to_list()]\n",
    "y_val = val_df['1_day_label'].to_numpy()\n",
    "\n",
    "X_test = np.array(tweet_embeddings)[test_df.index.to_list()]\n",
    "y_test = test_df['1_day_label'].to_numpy()"
   ]
  },
  {
   "cell_type": "markdown",
   "metadata": {
    "id": "OX8r-oA3L_id"
   },
   "source": [
    "Here we will tune hyperparameters. Specifically, we will find the best value for the number of trees in the forest by culculation the micro F1 average on validation set:"
   ]
  },
  {
   "cell_type": "code",
   "execution_count": 39,
   "metadata": {
    "colab": {
     "base_uri": "https://localhost:8080/",
     "height": 119
    },
    "id": "3BGX7hqnJpWw",
    "outputId": "951c5e8b-b8ee-4d65-8437-a88ef6139cb2"
   },
   "outputs": [
    {
     "name": "stdout",
     "output_type": "stream",
     "text": [
      "2: 0.7569750367107196\n",
      "4: 0.7958883994126283\n",
      "8: 0.8073910915320606\n",
      "16: 0.8098384728340675\n",
      "32: 0.8098384728340675\n",
      "64: 0.8098384728340675\n"
     ]
    }
   ],
   "source": [
    "from sklearn.ensemble import RandomForestClassifier\n",
    "from sklearn.metrics import f1_score, classification_report\n",
    "\n",
    "num_of_trees_values = [2, 4, 8, 16, 32, 64]\n",
    "\n",
    "for value in num_of_trees_values:\n",
    "    clf = RandomForestClassifier(n_estimators=value).fit(X=X_train, y=y_train)\n",
    "    y_pred = clf.predict(X=X_val)\n",
    "    print(f\"{value}: {f1_score(y_val, y_pred, average='micro')}\")"
   ]
  },
  {
   "cell_type": "markdown",
   "metadata": {
    "id": "MuA39lpjNuXv"
   },
   "source": [
    "Testing the model with the best hyperparameters"
   ]
  },
  {
   "cell_type": "code",
   "execution_count": 40,
   "metadata": {
    "colab": {
     "base_uri": "https://localhost:8080/",
     "height": 241
    },
    "id": "Mau4LUVsNzsV",
    "outputId": "eaf165fa-f0d8-4b62-b1e3-6301ade59478"
   },
   "outputs": [
    {
     "name": "stdout",
     "output_type": "stream",
     "text": [
      "              precision    recall  f1-score   support\n",
      "\n",
      "          -1       0.00      0.00      0.00       123\n",
      "           0       0.64      1.00      0.78       525\n",
      "           1       0.00      0.00      0.00       166\n",
      "\n",
      "    accuracy                           0.64       814\n",
      "   macro avg       0.21      0.33      0.26       814\n",
      "weighted avg       0.42      0.64      0.51       814\n",
      "\n"
     ]
    },
    {
     "name": "stderr",
     "output_type": "stream",
     "text": [
      "/usr/local/lib/python3.6/dist-packages/sklearn/metrics/_classification.py:1272: UndefinedMetricWarning: Precision and F-score are ill-defined and being set to 0.0 in labels with no predicted samples. Use `zero_division` parameter to control this behavior.\n",
      "  _warn_prf(average, modifier, msg_start, len(result))\n"
     ]
    }
   ],
   "source": [
    "clf = RandomForestClassifier(n_estimators=16).fit(X=X_train, y=y_train)\n",
    "y_pred = clf.predict(X=X_test)\n",
    "print(classification_report(y_test, y_pred))"
   ]
  },
  {
   "cell_type": "markdown",
   "metadata": {
    "id": "22d0px_ibJLd"
   },
   "source": [
    "## Model B building"
   ]
  },
  {
   "cell_type": "markdown",
   "metadata": {
    "id": "ND7Ldc1IbLjh"
   },
   "source": [
    "Here we build the second model on the number of new cases in 14 days:"
   ]
  },
  {
   "cell_type": "code",
   "execution_count": 41,
   "metadata": {
    "id": "vqct86RsOqIN"
   },
   "outputs": [],
   "source": [
    "X_train = np.array(tweet_embeddings)[train_df.index.to_list()]\n",
    "y_train = train_df['14_day_label'].to_numpy()\n",
    "\n",
    "X_val = np.array(tweet_embeddings)[val_df.index.to_list()]\n",
    "y_val = val_df['14_day_label'].to_numpy()\n",
    "\n",
    "X_test = np.array(tweet_embeddings)[test_df.index.to_list()]\n",
    "y_test = test_df['14_day_label'].to_numpy()"
   ]
  },
  {
   "cell_type": "code",
   "execution_count": 42,
   "metadata": {
    "colab": {
     "base_uri": "https://localhost:8080/",
     "height": 119
    },
    "id": "v_gwjkMNOiIR",
    "outputId": "cee3b074-402a-4242-9e06-18fcb0fbe0cf"
   },
   "outputs": [
    {
     "name": "stdout",
     "output_type": "stream",
     "text": [
      "2: 0.6431718061674009\n",
      "4: 0.6223690651003426\n",
      "8: 0.6052373959862947\n",
      "16: 0.6426823299069995\n",
      "32: 0.6544297601566325\n",
      "64: 0.6551639745472344\n"
     ]
    }
   ],
   "source": [
    "num_of_trees_values = [2, 4, 8, 16, 32, 64]\n",
    "\n",
    "for value in num_of_trees_values:\n",
    "    clf = RandomForestClassifier(n_estimators=value).fit(X=X_train, y=y_train)\n",
    "    y_pred = clf.predict(X=X_val)\n",
    "    print(f\"{value}: {f1_score(y_val, y_pred, average='micro')}\")"
   ]
  },
  {
   "cell_type": "code",
   "execution_count": 43,
   "metadata": {
    "colab": {
     "base_uri": "https://localhost:8080/",
     "height": 241
    },
    "id": "SsZ36WHtO2jt",
    "outputId": "9ebc1561-cc97-4337-f2eb-e494f49b9d3b"
   },
   "outputs": [
    {
     "name": "stdout",
     "output_type": "stream",
     "text": [
      "              precision    recall  f1-score   support\n",
      "\n",
      "          -1       0.00      0.00      0.00        29\n",
      "           0       0.19      0.91      0.31       154\n",
      "           1       0.76      0.08      0.14       631\n",
      "\n",
      "    accuracy                           0.23       814\n",
      "   macro avg       0.31      0.33      0.15       814\n",
      "weighted avg       0.62      0.23      0.17       814\n",
      "\n"
     ]
    },
    {
     "name": "stderr",
     "output_type": "stream",
     "text": [
      "/usr/local/lib/python3.6/dist-packages/sklearn/metrics/_classification.py:1272: UndefinedMetricWarning: Precision and F-score are ill-defined and being set to 0.0 in labels with no predicted samples. Use `zero_division` parameter to control this behavior.\n",
      "  _warn_prf(average, modifier, msg_start, len(result))\n"
     ]
    }
   ],
   "source": [
    "clf = RandomForestClassifier(n_estimators=32).fit(X=X_train, y=y_train)\n",
    "y_pred = clf.predict(X=X_test)\n",
    "print(classification_report(y_test, y_pred))"
   ]
  },
  {
   "cell_type": "markdown",
   "metadata": {
    "id": "UDdGvQTpbNjN"
   },
   "source": [
    "## Models comparison"
   ]
  },
  {
   "cell_type": "markdown",
   "metadata": {
    "id": "NhZosjJ9P69V"
   },
   "source": [
    "By comparing the f1 measure results between the two models we can conclude that the model trained on the number of cases on the next day after the tweet has higher performance and therefore may be recommended for testing a new tweet before publication. This may suggest to us that the impact of the tweet is the highest right after the publication which might be explained by the nature of the Twitter feed line since the tweet disappears pretty quickly after the publication. "
   ]
  }
 ],
 "metadata": {
  "accelerator": "GPU",
  "colab": {
   "collapsed_sections": [],
   "name": "CSCI6515 - Assignment 2.ipynb",
   "provenance": [],
   "toc_visible": true
  },
  "kernelspec": {
   "display_name": "Python 3",
   "language": "python",
   "name": "python3"
  },
  "language_info": {
   "codemirror_mode": {
    "name": "ipython",
    "version": 3
   },
   "file_extension": ".py",
   "mimetype": "text/x-python",
   "name": "python",
   "nbconvert_exporter": "python",
   "pygments_lexer": "ipython3",
   "version": "3.8.5"
  },
  "widgets": {
   "application/vnd.jupyter.widget-state+json": {
    "057df290c4204d71a6f0f31d1c88a524": {
     "model_module": "@jupyter-widgets/base",
     "model_name": "LayoutModel",
     "state": {
      "_model_module": "@jupyter-widgets/base",
      "_model_module_version": "1.2.0",
      "_model_name": "LayoutModel",
      "_view_count": null,
      "_view_module": "@jupyter-widgets/base",
      "_view_module_version": "1.2.0",
      "_view_name": "LayoutView",
      "align_content": null,
      "align_items": null,
      "align_self": null,
      "border": null,
      "bottom": null,
      "display": null,
      "flex": null,
      "flex_flow": null,
      "grid_area": null,
      "grid_auto_columns": null,
      "grid_auto_flow": null,
      "grid_auto_rows": null,
      "grid_column": null,
      "grid_gap": null,
      "grid_row": null,
      "grid_template_areas": null,
      "grid_template_columns": null,
      "grid_template_rows": null,
      "height": null,
      "justify_content": null,
      "justify_items": null,
      "left": null,
      "margin": null,
      "max_height": null,
      "max_width": null,
      "min_height": null,
      "min_width": null,
      "object_fit": null,
      "object_position": null,
      "order": null,
      "overflow": null,
      "overflow_x": null,
      "overflow_y": null,
      "padding": null,
      "right": null,
      "top": null,
      "visibility": null,
      "width": null
     }
    },
    "0d1a83cdb627420e937fe09ab4049ba1": {
     "model_module": "@jupyter-widgets/controls",
     "model_name": "HTMLModel",
     "state": {
      "_dom_classes": [],
      "_model_module": "@jupyter-widgets/controls",
      "_model_module_version": "1.5.0",
      "_model_name": "HTMLModel",
      "_view_count": null,
      "_view_module": "@jupyter-widgets/controls",
      "_view_module_version": "1.5.0",
      "_view_name": "HTMLView",
      "description": "",
      "description_tooltip": null,
      "layout": "IPY_MODEL_ebdad3b7ddf74cbeb55b00d18aa5c375",
      "placeholder": "​",
      "style": "IPY_MODEL_f604e771888d433093ef8a35634b7548",
      "value": " 1.35G/1.35G [00:25&lt;00:00, 52.1MB/s]"
     }
    },
    "1399b77e615e4823a2ccf21939952dfd": {
     "model_module": "@jupyter-widgets/base",
     "model_name": "LayoutModel",
     "state": {
      "_model_module": "@jupyter-widgets/base",
      "_model_module_version": "1.2.0",
      "_model_name": "LayoutModel",
      "_view_count": null,
      "_view_module": "@jupyter-widgets/base",
      "_view_module_version": "1.2.0",
      "_view_name": "LayoutView",
      "align_content": null,
      "align_items": null,
      "align_self": null,
      "border": null,
      "bottom": null,
      "display": null,
      "flex": null,
      "flex_flow": null,
      "grid_area": null,
      "grid_auto_columns": null,
      "grid_auto_flow": null,
      "grid_auto_rows": null,
      "grid_column": null,
      "grid_gap": null,
      "grid_row": null,
      "grid_template_areas": null,
      "grid_template_columns": null,
      "grid_template_rows": null,
      "height": null,
      "justify_content": null,
      "justify_items": null,
      "left": null,
      "margin": null,
      "max_height": null,
      "max_width": null,
      "min_height": null,
      "min_width": null,
      "object_fit": null,
      "object_position": null,
      "order": null,
      "overflow": null,
      "overflow_x": null,
      "overflow_y": null,
      "padding": null,
      "right": null,
      "top": null,
      "visibility": null,
      "width": null
     }
    },
    "13e16ab4c5444324abbe0ddba23bfa24": {
     "model_module": "@jupyter-widgets/base",
     "model_name": "LayoutModel",
     "state": {
      "_model_module": "@jupyter-widgets/base",
      "_model_module_version": "1.2.0",
      "_model_name": "LayoutModel",
      "_view_count": null,
      "_view_module": "@jupyter-widgets/base",
      "_view_module_version": "1.2.0",
      "_view_name": "LayoutView",
      "align_content": null,
      "align_items": null,
      "align_self": null,
      "border": null,
      "bottom": null,
      "display": null,
      "flex": null,
      "flex_flow": null,
      "grid_area": null,
      "grid_auto_columns": null,
      "grid_auto_flow": null,
      "grid_auto_rows": null,
      "grid_column": null,
      "grid_gap": null,
      "grid_row": null,
      "grid_template_areas": null,
      "grid_template_columns": null,
      "grid_template_rows": null,
      "height": null,
      "justify_content": null,
      "justify_items": null,
      "left": null,
      "margin": null,
      "max_height": null,
      "max_width": null,
      "min_height": null,
      "min_width": null,
      "object_fit": null,
      "object_position": null,
      "order": null,
      "overflow": null,
      "overflow_x": null,
      "overflow_y": null,
      "padding": null,
      "right": null,
      "top": null,
      "visibility": null,
      "width": null
     }
    },
    "20e392465089448a9be79e41aca9474c": {
     "model_module": "@jupyter-widgets/base",
     "model_name": "LayoutModel",
     "state": {
      "_model_module": "@jupyter-widgets/base",
      "_model_module_version": "1.2.0",
      "_model_name": "LayoutModel",
      "_view_count": null,
      "_view_module": "@jupyter-widgets/base",
      "_view_module_version": "1.2.0",
      "_view_name": "LayoutView",
      "align_content": null,
      "align_items": null,
      "align_self": null,
      "border": null,
      "bottom": null,
      "display": null,
      "flex": null,
      "flex_flow": null,
      "grid_area": null,
      "grid_auto_columns": null,
      "grid_auto_flow": null,
      "grid_auto_rows": null,
      "grid_column": null,
      "grid_gap": null,
      "grid_row": null,
      "grid_template_areas": null,
      "grid_template_columns": null,
      "grid_template_rows": null,
      "height": null,
      "justify_content": null,
      "justify_items": null,
      "left": null,
      "margin": null,
      "max_height": null,
      "max_width": null,
      "min_height": null,
      "min_width": null,
      "object_fit": null,
      "object_position": null,
      "order": null,
      "overflow": null,
      "overflow_x": null,
      "overflow_y": null,
      "padding": null,
      "right": null,
      "top": null,
      "visibility": null,
      "width": null
     }
    },
    "22012acf285541f087fc43e1e76dfb51": {
     "model_module": "@jupyter-widgets/controls",
     "model_name": "HBoxModel",
     "state": {
      "_dom_classes": [],
      "_model_module": "@jupyter-widgets/controls",
      "_model_module_version": "1.5.0",
      "_model_name": "HBoxModel",
      "_view_count": null,
      "_view_module": "@jupyter-widgets/controls",
      "_view_module_version": "1.5.0",
      "_view_name": "HBoxView",
      "box_style": "",
      "children": [
       "IPY_MODEL_300158869c1246c5bcab9091cb47f467",
       "IPY_MODEL_0d1a83cdb627420e937fe09ab4049ba1"
      ],
      "layout": "IPY_MODEL_b7ff0b306e51428d8893b82fd0bcaa25"
     }
    },
    "24c5ab3230504a6c9b9e5d2cc1e3a86d": {
     "model_module": "@jupyter-widgets/base",
     "model_name": "LayoutModel",
     "state": {
      "_model_module": "@jupyter-widgets/base",
      "_model_module_version": "1.2.0",
      "_model_name": "LayoutModel",
      "_view_count": null,
      "_view_module": "@jupyter-widgets/base",
      "_view_module_version": "1.2.0",
      "_view_name": "LayoutView",
      "align_content": null,
      "align_items": null,
      "align_self": null,
      "border": null,
      "bottom": null,
      "display": null,
      "flex": null,
      "flex_flow": null,
      "grid_area": null,
      "grid_auto_columns": null,
      "grid_auto_flow": null,
      "grid_auto_rows": null,
      "grid_column": null,
      "grid_gap": null,
      "grid_row": null,
      "grid_template_areas": null,
      "grid_template_columns": null,
      "grid_template_rows": null,
      "height": null,
      "justify_content": null,
      "justify_items": null,
      "left": null,
      "margin": null,
      "max_height": null,
      "max_width": null,
      "min_height": null,
      "min_width": null,
      "object_fit": null,
      "object_position": null,
      "order": null,
      "overflow": null,
      "overflow_x": null,
      "overflow_y": null,
      "padding": null,
      "right": null,
      "top": null,
      "visibility": null,
      "width": null
     }
    },
    "2865b21ee5574158a67a4844b8b2f333": {
     "model_module": "@jupyter-widgets/controls",
     "model_name": "HTMLModel",
     "state": {
      "_dom_classes": [],
      "_model_module": "@jupyter-widgets/controls",
      "_model_module_version": "1.5.0",
      "_model_name": "HTMLModel",
      "_view_count": null,
      "_view_module": "@jupyter-widgets/controls",
      "_view_module_version": "1.5.0",
      "_view_name": "HTMLView",
      "description": "",
      "description_tooltip": null,
      "layout": "IPY_MODEL_8805cc23bb554c5aaac3d16c39836730",
      "placeholder": "​",
      "style": "IPY_MODEL_acb392b44ab7481a99ecee920bfd3b46",
      "value": " 112/112 [00:00&lt;00:00, 119B/s]"
     }
    },
    "2bca2aaad6a74f60bae3b0899022879e": {
     "model_module": "@jupyter-widgets/controls",
     "model_name": "FloatProgressModel",
     "state": {
      "_dom_classes": [],
      "_model_module": "@jupyter-widgets/controls",
      "_model_module_version": "1.5.0",
      "_model_name": "FloatProgressModel",
      "_view_count": null,
      "_view_module": "@jupyter-widgets/controls",
      "_view_module_version": "1.5.0",
      "_view_name": "ProgressView",
      "bar_style": "success",
      "description": "100%",
      "description_tooltip": null,
      "layout": "IPY_MODEL_b4b4f796699e4b4bb8a7bf5aa80926f9",
      "max": 7581,
      "min": 0,
      "orientation": "horizontal",
      "style": "IPY_MODEL_d149d73f4b4c4f86ad0c742209b2fc17",
      "value": 7581
     }
    },
    "300158869c1246c5bcab9091cb47f467": {
     "model_module": "@jupyter-widgets/controls",
     "model_name": "FloatProgressModel",
     "state": {
      "_dom_classes": [],
      "_model_module": "@jupyter-widgets/controls",
      "_model_module_version": "1.5.0",
      "_model_name": "FloatProgressModel",
      "_view_count": null,
      "_view_module": "@jupyter-widgets/controls",
      "_view_module_version": "1.5.0",
      "_view_name": "ProgressView",
      "bar_style": "success",
      "description": "Downloading: 100%",
      "description_tooltip": null,
      "layout": "IPY_MODEL_4e48d5b499414f8ba416ee93a6575cc0",
      "max": 1345068539,
      "min": 0,
      "orientation": "horizontal",
      "style": "IPY_MODEL_38acde90e92a429daee7b57ba95bcf6b",
      "value": 1345068539
     }
    },
    "38acde90e92a429daee7b57ba95bcf6b": {
     "model_module": "@jupyter-widgets/controls",
     "model_name": "ProgressStyleModel",
     "state": {
      "_model_module": "@jupyter-widgets/controls",
      "_model_module_version": "1.5.0",
      "_model_name": "ProgressStyleModel",
      "_view_count": null,
      "_view_module": "@jupyter-widgets/base",
      "_view_module_version": "1.2.0",
      "_view_name": "StyleView",
      "bar_color": null,
      "description_width": "initial"
     }
    },
    "3cef03e363f445b1a381be9df5e63301": {
     "model_module": "@jupyter-widgets/base",
     "model_name": "LayoutModel",
     "state": {
      "_model_module": "@jupyter-widgets/base",
      "_model_module_version": "1.2.0",
      "_model_name": "LayoutModel",
      "_view_count": null,
      "_view_module": "@jupyter-widgets/base",
      "_view_module_version": "1.2.0",
      "_view_name": "LayoutView",
      "align_content": null,
      "align_items": null,
      "align_self": null,
      "border": null,
      "bottom": null,
      "display": null,
      "flex": null,
      "flex_flow": null,
      "grid_area": null,
      "grid_auto_columns": null,
      "grid_auto_flow": null,
      "grid_auto_rows": null,
      "grid_column": null,
      "grid_gap": null,
      "grid_row": null,
      "grid_template_areas": null,
      "grid_template_columns": null,
      "grid_template_rows": null,
      "height": null,
      "justify_content": null,
      "justify_items": null,
      "left": null,
      "margin": null,
      "max_height": null,
      "max_width": null,
      "min_height": null,
      "min_width": null,
      "object_fit": null,
      "object_position": null,
      "order": null,
      "overflow": null,
      "overflow_x": null,
      "overflow_y": null,
      "padding": null,
      "right": null,
      "top": null,
      "visibility": null,
      "width": null
     }
    },
    "453ee13ab76f4eb19cfa53b4aa4118f7": {
     "model_module": "@jupyter-widgets/controls",
     "model_name": "HBoxModel",
     "state": {
      "_dom_classes": [],
      "_model_module": "@jupyter-widgets/controls",
      "_model_module_version": "1.5.0",
      "_model_name": "HBoxModel",
      "_view_count": null,
      "_view_module": "@jupyter-widgets/controls",
      "_view_module_version": "1.5.0",
      "_view_name": "HBoxView",
      "box_style": "",
      "children": [
       "IPY_MODEL_46d840ca8f81416086a07eb0cfe50036",
       "IPY_MODEL_2865b21ee5574158a67a4844b8b2f333"
      ],
      "layout": "IPY_MODEL_20e392465089448a9be79e41aca9474c"
     }
    },
    "46d840ca8f81416086a07eb0cfe50036": {
     "model_module": "@jupyter-widgets/controls",
     "model_name": "FloatProgressModel",
     "state": {
      "_dom_classes": [],
      "_model_module": "@jupyter-widgets/controls",
      "_model_module_version": "1.5.0",
      "_model_name": "FloatProgressModel",
      "_view_count": null,
      "_view_module": "@jupyter-widgets/controls",
      "_view_module_version": "1.5.0",
      "_view_name": "ProgressView",
      "bar_style": "success",
      "description": "Downloading: 100%",
      "description_tooltip": null,
      "layout": "IPY_MODEL_3cef03e363f445b1a381be9df5e63301",
      "max": 112,
      "min": 0,
      "orientation": "horizontal",
      "style": "IPY_MODEL_555fc902b8824b449b125679ad87a89d",
      "value": 112
     }
    },
    "48ff1b1df72b42f0b9d2c48f0cb021be": {
     "model_module": "@jupyter-widgets/controls",
     "model_name": "HTMLModel",
     "state": {
      "_dom_classes": [],
      "_model_module": "@jupyter-widgets/controls",
      "_model_module_version": "1.5.0",
      "_model_name": "HTMLModel",
      "_view_count": null,
      "_view_module": "@jupyter-widgets/controls",
      "_view_module_version": "1.5.0",
      "_view_name": "HTMLView",
      "description": "",
      "description_tooltip": null,
      "layout": "IPY_MODEL_1399b77e615e4823a2ccf21939952dfd",
      "placeholder": "​",
      "style": "IPY_MODEL_b7483f3acdbb466382e59153c84b7937",
      "value": " 421/421 [00:00&lt;00:00, 622B/s]"
     }
    },
    "4e48d5b499414f8ba416ee93a6575cc0": {
     "model_module": "@jupyter-widgets/base",
     "model_name": "LayoutModel",
     "state": {
      "_model_module": "@jupyter-widgets/base",
      "_model_module_version": "1.2.0",
      "_model_name": "LayoutModel",
      "_view_count": null,
      "_view_module": "@jupyter-widgets/base",
      "_view_module_version": "1.2.0",
      "_view_name": "LayoutView",
      "align_content": null,
      "align_items": null,
      "align_self": null,
      "border": null,
      "bottom": null,
      "display": null,
      "flex": null,
      "flex_flow": null,
      "grid_area": null,
      "grid_auto_columns": null,
      "grid_auto_flow": null,
      "grid_auto_rows": null,
      "grid_column": null,
      "grid_gap": null,
      "grid_row": null,
      "grid_template_areas": null,
      "grid_template_columns": null,
      "grid_template_rows": null,
      "height": null,
      "justify_content": null,
      "justify_items": null,
      "left": null,
      "margin": null,
      "max_height": null,
      "max_width": null,
      "min_height": null,
      "min_width": null,
      "object_fit": null,
      "object_position": null,
      "order": null,
      "overflow": null,
      "overflow_x": null,
      "overflow_y": null,
      "padding": null,
      "right": null,
      "top": null,
      "visibility": null,
      "width": null
     }
    },
    "555fc902b8824b449b125679ad87a89d": {
     "model_module": "@jupyter-widgets/controls",
     "model_name": "ProgressStyleModel",
     "state": {
      "_model_module": "@jupyter-widgets/controls",
      "_model_module_version": "1.5.0",
      "_model_name": "ProgressStyleModel",
      "_view_count": null,
      "_view_module": "@jupyter-widgets/base",
      "_view_module_version": "1.2.0",
      "_view_name": "StyleView",
      "bar_color": null,
      "description_width": "initial"
     }
    },
    "5b25e86e5c4f43eb88973d9fc0cb2bec": {
     "model_module": "@jupyter-widgets/controls",
     "model_name": "DescriptionStyleModel",
     "state": {
      "_model_module": "@jupyter-widgets/controls",
      "_model_module_version": "1.5.0",
      "_model_name": "DescriptionStyleModel",
      "_view_count": null,
      "_view_module": "@jupyter-widgets/base",
      "_view_module_version": "1.2.0",
      "_view_name": "StyleView",
      "description_width": ""
     }
    },
    "63f847b072bc4cf9ae55f5de1f0d725e": {
     "model_module": "@jupyter-widgets/controls",
     "model_name": "HBoxModel",
     "state": {
      "_dom_classes": [],
      "_model_module": "@jupyter-widgets/controls",
      "_model_module_version": "1.5.0",
      "_model_name": "HBoxModel",
      "_view_count": null,
      "_view_module": "@jupyter-widgets/controls",
      "_view_module_version": "1.5.0",
      "_view_name": "HBoxView",
      "box_style": "",
      "children": [
       "IPY_MODEL_7d4f7f381aef464a9b1eefe1203ef1a1",
       "IPY_MODEL_e7b1940fad7c4a4f91d9cffba5faa365"
      ],
      "layout": "IPY_MODEL_e23315d2b6c24c6fbd86517f049a114e"
     }
    },
    "71d32f2c94c54eaaaeea61e2d7e579d0": {
     "model_module": "@jupyter-widgets/controls",
     "model_name": "ProgressStyleModel",
     "state": {
      "_model_module": "@jupyter-widgets/controls",
      "_model_module_version": "1.5.0",
      "_model_name": "ProgressStyleModel",
      "_view_count": null,
      "_view_module": "@jupyter-widgets/base",
      "_view_module_version": "1.2.0",
      "_view_name": "StyleView",
      "bar_color": null,
      "description_width": "initial"
     }
    },
    "73c14bd3bec04507a537fca1b7df3a4f": {
     "model_module": "@jupyter-widgets/base",
     "model_name": "LayoutModel",
     "state": {
      "_model_module": "@jupyter-widgets/base",
      "_model_module_version": "1.2.0",
      "_model_name": "LayoutModel",
      "_view_count": null,
      "_view_module": "@jupyter-widgets/base",
      "_view_module_version": "1.2.0",
      "_view_name": "LayoutView",
      "align_content": null,
      "align_items": null,
      "align_self": null,
      "border": null,
      "bottom": null,
      "display": null,
      "flex": null,
      "flex_flow": null,
      "grid_area": null,
      "grid_auto_columns": null,
      "grid_auto_flow": null,
      "grid_auto_rows": null,
      "grid_column": null,
      "grid_gap": null,
      "grid_row": null,
      "grid_template_areas": null,
      "grid_template_columns": null,
      "grid_template_rows": null,
      "height": null,
      "justify_content": null,
      "justify_items": null,
      "left": null,
      "margin": null,
      "max_height": null,
      "max_width": null,
      "min_height": null,
      "min_width": null,
      "object_fit": null,
      "object_position": null,
      "order": null,
      "overflow": null,
      "overflow_x": null,
      "overflow_y": null,
      "padding": null,
      "right": null,
      "top": null,
      "visibility": null,
      "width": null
     }
    },
    "7583dc6d5ee34d91afabb573fcd589dd": {
     "model_module": "@jupyter-widgets/base",
     "model_name": "LayoutModel",
     "state": {
      "_model_module": "@jupyter-widgets/base",
      "_model_module_version": "1.2.0",
      "_model_name": "LayoutModel",
      "_view_count": null,
      "_view_module": "@jupyter-widgets/base",
      "_view_module_version": "1.2.0",
      "_view_name": "LayoutView",
      "align_content": null,
      "align_items": null,
      "align_self": null,
      "border": null,
      "bottom": null,
      "display": null,
      "flex": null,
      "flex_flow": null,
      "grid_area": null,
      "grid_auto_columns": null,
      "grid_auto_flow": null,
      "grid_auto_rows": null,
      "grid_column": null,
      "grid_gap": null,
      "grid_row": null,
      "grid_template_areas": null,
      "grid_template_columns": null,
      "grid_template_rows": null,
      "height": null,
      "justify_content": null,
      "justify_items": null,
      "left": null,
      "margin": null,
      "max_height": null,
      "max_width": null,
      "min_height": null,
      "min_width": null,
      "object_fit": null,
      "object_position": null,
      "order": null,
      "overflow": null,
      "overflow_x": null,
      "overflow_y": null,
      "padding": null,
      "right": null,
      "top": null,
      "visibility": null,
      "width": null
     }
    },
    "78ef0ed9bb784554b32eb74443a4c4e6": {
     "model_module": "@jupyter-widgets/controls",
     "model_name": "DescriptionStyleModel",
     "state": {
      "_model_module": "@jupyter-widgets/controls",
      "_model_module_version": "1.5.0",
      "_model_name": "DescriptionStyleModel",
      "_view_count": null,
      "_view_module": "@jupyter-widgets/base",
      "_view_module_version": "1.2.0",
      "_view_name": "StyleView",
      "description_width": ""
     }
    },
    "7d4f7f381aef464a9b1eefe1203ef1a1": {
     "model_module": "@jupyter-widgets/controls",
     "model_name": "FloatProgressModel",
     "state": {
      "_dom_classes": [],
      "_model_module": "@jupyter-widgets/controls",
      "_model_module_version": "1.5.0",
      "_model_name": "FloatProgressModel",
      "_view_count": null,
      "_view_module": "@jupyter-widgets/controls",
      "_view_module_version": "1.5.0",
      "_view_name": "ProgressView",
      "bar_style": "success",
      "description": "Downloading: 100%",
      "description_tooltip": null,
      "layout": "IPY_MODEL_91a1a24e56eb42aaaef251041c36627b",
      "max": 231508,
      "min": 0,
      "orientation": "horizontal",
      "style": "IPY_MODEL_db74dc52479c4505a77520ec4aafa9d4",
      "value": 231508
     }
    },
    "8107a50309394082b21ccd7216708912": {
     "model_module": "@jupyter-widgets/controls",
     "model_name": "ProgressStyleModel",
     "state": {
      "_model_module": "@jupyter-widgets/controls",
      "_model_module_version": "1.5.0",
      "_model_name": "ProgressStyleModel",
      "_view_count": null,
      "_view_module": "@jupyter-widgets/base",
      "_view_module_version": "1.2.0",
      "_view_name": "StyleView",
      "bar_color": null,
      "description_width": "initial"
     }
    },
    "84459b97188b433ebe37618abd95815d": {
     "model_module": "@jupyter-widgets/controls",
     "model_name": "HTMLModel",
     "state": {
      "_dom_classes": [],
      "_model_module": "@jupyter-widgets/controls",
      "_model_module_version": "1.5.0",
      "_model_name": "HTMLModel",
      "_view_count": null,
      "_view_module": "@jupyter-widgets/controls",
      "_view_module_version": "1.5.0",
      "_view_name": "HTMLView",
      "description": "",
      "description_tooltip": null,
      "layout": "IPY_MODEL_94f0a0d28d3b41669598a9bfcfdc4932",
      "placeholder": "​",
      "style": "IPY_MODEL_78ef0ed9bb784554b32eb74443a4c4e6",
      "value": " 62.0/62.0 [00:00&lt;00:00, 185B/s]"
     }
    },
    "86cf2c8f744e46a794b03eb063e24a14": {
     "model_module": "@jupyter-widgets/controls",
     "model_name": "FloatProgressModel",
     "state": {
      "_dom_classes": [],
      "_model_module": "@jupyter-widgets/controls",
      "_model_module_version": "1.5.0",
      "_model_name": "FloatProgressModel",
      "_view_count": null,
      "_view_module": "@jupyter-widgets/controls",
      "_view_module_version": "1.5.0",
      "_view_name": "ProgressView",
      "bar_style": "success",
      "description": "Downloading: 100%",
      "description_tooltip": null,
      "layout": "IPY_MODEL_24c5ab3230504a6c9b9e5d2cc1e3a86d",
      "max": 421,
      "min": 0,
      "orientation": "horizontal",
      "style": "IPY_MODEL_8107a50309394082b21ccd7216708912",
      "value": 421
     }
    },
    "8805cc23bb554c5aaac3d16c39836730": {
     "model_module": "@jupyter-widgets/base",
     "model_name": "LayoutModel",
     "state": {
      "_model_module": "@jupyter-widgets/base",
      "_model_module_version": "1.2.0",
      "_model_name": "LayoutModel",
      "_view_count": null,
      "_view_module": "@jupyter-widgets/base",
      "_view_module_version": "1.2.0",
      "_view_name": "LayoutView",
      "align_content": null,
      "align_items": null,
      "align_self": null,
      "border": null,
      "bottom": null,
      "display": null,
      "flex": null,
      "flex_flow": null,
      "grid_area": null,
      "grid_auto_columns": null,
      "grid_auto_flow": null,
      "grid_auto_rows": null,
      "grid_column": null,
      "grid_gap": null,
      "grid_row": null,
      "grid_template_areas": null,
      "grid_template_columns": null,
      "grid_template_rows": null,
      "height": null,
      "justify_content": null,
      "justify_items": null,
      "left": null,
      "margin": null,
      "max_height": null,
      "max_width": null,
      "min_height": null,
      "min_width": null,
      "object_fit": null,
      "object_position": null,
      "order": null,
      "overflow": null,
      "overflow_x": null,
      "overflow_y": null,
      "padding": null,
      "right": null,
      "top": null,
      "visibility": null,
      "width": null
     }
    },
    "91a1a24e56eb42aaaef251041c36627b": {
     "model_module": "@jupyter-widgets/base",
     "model_name": "LayoutModel",
     "state": {
      "_model_module": "@jupyter-widgets/base",
      "_model_module_version": "1.2.0",
      "_model_name": "LayoutModel",
      "_view_count": null,
      "_view_module": "@jupyter-widgets/base",
      "_view_module_version": "1.2.0",
      "_view_name": "LayoutView",
      "align_content": null,
      "align_items": null,
      "align_self": null,
      "border": null,
      "bottom": null,
      "display": null,
      "flex": null,
      "flex_flow": null,
      "grid_area": null,
      "grid_auto_columns": null,
      "grid_auto_flow": null,
      "grid_auto_rows": null,
      "grid_column": null,
      "grid_gap": null,
      "grid_row": null,
      "grid_template_areas": null,
      "grid_template_columns": null,
      "grid_template_rows": null,
      "height": null,
      "justify_content": null,
      "justify_items": null,
      "left": null,
      "margin": null,
      "max_height": null,
      "max_width": null,
      "min_height": null,
      "min_width": null,
      "object_fit": null,
      "object_position": null,
      "order": null,
      "overflow": null,
      "overflow_x": null,
      "overflow_y": null,
      "padding": null,
      "right": null,
      "top": null,
      "visibility": null,
      "width": null
     }
    },
    "94f0a0d28d3b41669598a9bfcfdc4932": {
     "model_module": "@jupyter-widgets/base",
     "model_name": "LayoutModel",
     "state": {
      "_model_module": "@jupyter-widgets/base",
      "_model_module_version": "1.2.0",
      "_model_name": "LayoutModel",
      "_view_count": null,
      "_view_module": "@jupyter-widgets/base",
      "_view_module_version": "1.2.0",
      "_view_name": "LayoutView",
      "align_content": null,
      "align_items": null,
      "align_self": null,
      "border": null,
      "bottom": null,
      "display": null,
      "flex": null,
      "flex_flow": null,
      "grid_area": null,
      "grid_auto_columns": null,
      "grid_auto_flow": null,
      "grid_auto_rows": null,
      "grid_column": null,
      "grid_gap": null,
      "grid_row": null,
      "grid_template_areas": null,
      "grid_template_columns": null,
      "grid_template_rows": null,
      "height": null,
      "justify_content": null,
      "justify_items": null,
      "left": null,
      "margin": null,
      "max_height": null,
      "max_width": null,
      "min_height": null,
      "min_width": null,
      "object_fit": null,
      "object_position": null,
      "order": null,
      "overflow": null,
      "overflow_x": null,
      "overflow_y": null,
      "padding": null,
      "right": null,
      "top": null,
      "visibility": null,
      "width": null
     }
    },
    "a2eb8f9648b746618845eef52174265a": {
     "model_module": "@jupyter-widgets/controls",
     "model_name": "FloatProgressModel",
     "state": {
      "_dom_classes": [],
      "_model_module": "@jupyter-widgets/controls",
      "_model_module_version": "1.5.0",
      "_model_name": "FloatProgressModel",
      "_view_count": null,
      "_view_module": "@jupyter-widgets/controls",
      "_view_module_version": "1.5.0",
      "_view_name": "ProgressView",
      "bar_style": "success",
      "description": "Downloading: 100%",
      "description_tooltip": null,
      "layout": "IPY_MODEL_13e16ab4c5444324abbe0ddba23bfa24",
      "max": 62,
      "min": 0,
      "orientation": "horizontal",
      "style": "IPY_MODEL_71d32f2c94c54eaaaeea61e2d7e579d0",
      "value": 62
     }
    },
    "a6ff7647321744589a5f6630180c5b6a": {
     "model_module": "@jupyter-widgets/controls",
     "model_name": "HBoxModel",
     "state": {
      "_dom_classes": [],
      "_model_module": "@jupyter-widgets/controls",
      "_model_module_version": "1.5.0",
      "_model_name": "HBoxModel",
      "_view_count": null,
      "_view_module": "@jupyter-widgets/controls",
      "_view_module_version": "1.5.0",
      "_view_name": "HBoxView",
      "box_style": "",
      "children": [
       "IPY_MODEL_a2eb8f9648b746618845eef52174265a",
       "IPY_MODEL_84459b97188b433ebe37618abd95815d"
      ],
      "layout": "IPY_MODEL_e82ee99dc6504697b226a9592a521460"
     }
    },
    "a945ef88842848a69a2b0bf5979edfa5": {
     "model_module": "@jupyter-widgets/controls",
     "model_name": "DescriptionStyleModel",
     "state": {
      "_model_module": "@jupyter-widgets/controls",
      "_model_module_version": "1.5.0",
      "_model_name": "DescriptionStyleModel",
      "_view_count": null,
      "_view_module": "@jupyter-widgets/base",
      "_view_module_version": "1.2.0",
      "_view_name": "StyleView",
      "description_width": ""
     }
    },
    "acb392b44ab7481a99ecee920bfd3b46": {
     "model_module": "@jupyter-widgets/controls",
     "model_name": "DescriptionStyleModel",
     "state": {
      "_model_module": "@jupyter-widgets/controls",
      "_model_module_version": "1.5.0",
      "_model_name": "DescriptionStyleModel",
      "_view_count": null,
      "_view_module": "@jupyter-widgets/base",
      "_view_module_version": "1.2.0",
      "_view_name": "StyleView",
      "description_width": ""
     }
    },
    "b4b4f796699e4b4bb8a7bf5aa80926f9": {
     "model_module": "@jupyter-widgets/base",
     "model_name": "LayoutModel",
     "state": {
      "_model_module": "@jupyter-widgets/base",
      "_model_module_version": "1.2.0",
      "_model_name": "LayoutModel",
      "_view_count": null,
      "_view_module": "@jupyter-widgets/base",
      "_view_module_version": "1.2.0",
      "_view_name": "LayoutView",
      "align_content": null,
      "align_items": null,
      "align_self": null,
      "border": null,
      "bottom": null,
      "display": null,
      "flex": null,
      "flex_flow": null,
      "grid_area": null,
      "grid_auto_columns": null,
      "grid_auto_flow": null,
      "grid_auto_rows": null,
      "grid_column": null,
      "grid_gap": null,
      "grid_row": null,
      "grid_template_areas": null,
      "grid_template_columns": null,
      "grid_template_rows": null,
      "height": null,
      "justify_content": null,
      "justify_items": null,
      "left": null,
      "margin": null,
      "max_height": null,
      "max_width": null,
      "min_height": null,
      "min_width": null,
      "object_fit": null,
      "object_position": null,
      "order": null,
      "overflow": null,
      "overflow_x": null,
      "overflow_y": null,
      "padding": null,
      "right": null,
      "top": null,
      "visibility": null,
      "width": null
     }
    },
    "b7483f3acdbb466382e59153c84b7937": {
     "model_module": "@jupyter-widgets/controls",
     "model_name": "DescriptionStyleModel",
     "state": {
      "_model_module": "@jupyter-widgets/controls",
      "_model_module_version": "1.5.0",
      "_model_name": "DescriptionStyleModel",
      "_view_count": null,
      "_view_module": "@jupyter-widgets/base",
      "_view_module_version": "1.2.0",
      "_view_name": "StyleView",
      "description_width": ""
     }
    },
    "b7ff0b306e51428d8893b82fd0bcaa25": {
     "model_module": "@jupyter-widgets/base",
     "model_name": "LayoutModel",
     "state": {
      "_model_module": "@jupyter-widgets/base",
      "_model_module_version": "1.2.0",
      "_model_name": "LayoutModel",
      "_view_count": null,
      "_view_module": "@jupyter-widgets/base",
      "_view_module_version": "1.2.0",
      "_view_name": "LayoutView",
      "align_content": null,
      "align_items": null,
      "align_self": null,
      "border": null,
      "bottom": null,
      "display": null,
      "flex": null,
      "flex_flow": null,
      "grid_area": null,
      "grid_auto_columns": null,
      "grid_auto_flow": null,
      "grid_auto_rows": null,
      "grid_column": null,
      "grid_gap": null,
      "grid_row": null,
      "grid_template_areas": null,
      "grid_template_columns": null,
      "grid_template_rows": null,
      "height": null,
      "justify_content": null,
      "justify_items": null,
      "left": null,
      "margin": null,
      "max_height": null,
      "max_width": null,
      "min_height": null,
      "min_width": null,
      "object_fit": null,
      "object_position": null,
      "order": null,
      "overflow": null,
      "overflow_x": null,
      "overflow_y": null,
      "padding": null,
      "right": null,
      "top": null,
      "visibility": null,
      "width": null
     }
    },
    "b957a4903b6248b8bc3203b72b24db63": {
     "model_module": "@jupyter-widgets/controls",
     "model_name": "HTMLModel",
     "state": {
      "_dom_classes": [],
      "_model_module": "@jupyter-widgets/controls",
      "_model_module_version": "1.5.0",
      "_model_name": "HTMLModel",
      "_view_count": null,
      "_view_module": "@jupyter-widgets/controls",
      "_view_module_version": "1.5.0",
      "_view_name": "HTMLView",
      "description": "",
      "description_tooltip": null,
      "layout": "IPY_MODEL_ccdf3f0d79624d4ab7702fb8ecaec8d3",
      "placeholder": "​",
      "style": "IPY_MODEL_a945ef88842848a69a2b0bf5979edfa5",
      "value": " 7581/7581 [03:21&lt;00:00, 37.57it/s]"
     }
    },
    "ba1e4b9dede8429cacfdfe40b87881a3": {
     "model_module": "@jupyter-widgets/controls",
     "model_name": "HBoxModel",
     "state": {
      "_dom_classes": [],
      "_model_module": "@jupyter-widgets/controls",
      "_model_module_version": "1.5.0",
      "_model_name": "HBoxModel",
      "_view_count": null,
      "_view_module": "@jupyter-widgets/controls",
      "_view_module_version": "1.5.0",
      "_view_name": "HBoxView",
      "box_style": "",
      "children": [
       "IPY_MODEL_2bca2aaad6a74f60bae3b0899022879e",
       "IPY_MODEL_b957a4903b6248b8bc3203b72b24db63"
      ],
      "layout": "IPY_MODEL_7583dc6d5ee34d91afabb573fcd589dd"
     }
    },
    "ccdf3f0d79624d4ab7702fb8ecaec8d3": {
     "model_module": "@jupyter-widgets/base",
     "model_name": "LayoutModel",
     "state": {
      "_model_module": "@jupyter-widgets/base",
      "_model_module_version": "1.2.0",
      "_model_name": "LayoutModel",
      "_view_count": null,
      "_view_module": "@jupyter-widgets/base",
      "_view_module_version": "1.2.0",
      "_view_name": "LayoutView",
      "align_content": null,
      "align_items": null,
      "align_self": null,
      "border": null,
      "bottom": null,
      "display": null,
      "flex": null,
      "flex_flow": null,
      "grid_area": null,
      "grid_auto_columns": null,
      "grid_auto_flow": null,
      "grid_auto_rows": null,
      "grid_column": null,
      "grid_gap": null,
      "grid_row": null,
      "grid_template_areas": null,
      "grid_template_columns": null,
      "grid_template_rows": null,
      "height": null,
      "justify_content": null,
      "justify_items": null,
      "left": null,
      "margin": null,
      "max_height": null,
      "max_width": null,
      "min_height": null,
      "min_width": null,
      "object_fit": null,
      "object_position": null,
      "order": null,
      "overflow": null,
      "overflow_x": null,
      "overflow_y": null,
      "padding": null,
      "right": null,
      "top": null,
      "visibility": null,
      "width": null
     }
    },
    "d149d73f4b4c4f86ad0c742209b2fc17": {
     "model_module": "@jupyter-widgets/controls",
     "model_name": "ProgressStyleModel",
     "state": {
      "_model_module": "@jupyter-widgets/controls",
      "_model_module_version": "1.5.0",
      "_model_name": "ProgressStyleModel",
      "_view_count": null,
      "_view_module": "@jupyter-widgets/base",
      "_view_module_version": "1.2.0",
      "_view_name": "StyleView",
      "bar_color": null,
      "description_width": "initial"
     }
    },
    "db74dc52479c4505a77520ec4aafa9d4": {
     "model_module": "@jupyter-widgets/controls",
     "model_name": "ProgressStyleModel",
     "state": {
      "_model_module": "@jupyter-widgets/controls",
      "_model_module_version": "1.5.0",
      "_model_name": "ProgressStyleModel",
      "_view_count": null,
      "_view_module": "@jupyter-widgets/base",
      "_view_module_version": "1.2.0",
      "_view_name": "StyleView",
      "bar_color": null,
      "description_width": "initial"
     }
    },
    "e00422c43c85418fb5d9ec2b1b1234eb": {
     "model_module": "@jupyter-widgets/controls",
     "model_name": "HBoxModel",
     "state": {
      "_dom_classes": [],
      "_model_module": "@jupyter-widgets/controls",
      "_model_module_version": "1.5.0",
      "_model_name": "HBoxModel",
      "_view_count": null,
      "_view_module": "@jupyter-widgets/controls",
      "_view_module_version": "1.5.0",
      "_view_name": "HBoxView",
      "box_style": "",
      "children": [
       "IPY_MODEL_86cf2c8f744e46a794b03eb063e24a14",
       "IPY_MODEL_48ff1b1df72b42f0b9d2c48f0cb021be"
      ],
      "layout": "IPY_MODEL_73c14bd3bec04507a537fca1b7df3a4f"
     }
    },
    "e23315d2b6c24c6fbd86517f049a114e": {
     "model_module": "@jupyter-widgets/base",
     "model_name": "LayoutModel",
     "state": {
      "_model_module": "@jupyter-widgets/base",
      "_model_module_version": "1.2.0",
      "_model_name": "LayoutModel",
      "_view_count": null,
      "_view_module": "@jupyter-widgets/base",
      "_view_module_version": "1.2.0",
      "_view_name": "LayoutView",
      "align_content": null,
      "align_items": null,
      "align_self": null,
      "border": null,
      "bottom": null,
      "display": null,
      "flex": null,
      "flex_flow": null,
      "grid_area": null,
      "grid_auto_columns": null,
      "grid_auto_flow": null,
      "grid_auto_rows": null,
      "grid_column": null,
      "grid_gap": null,
      "grid_row": null,
      "grid_template_areas": null,
      "grid_template_columns": null,
      "grid_template_rows": null,
      "height": null,
      "justify_content": null,
      "justify_items": null,
      "left": null,
      "margin": null,
      "max_height": null,
      "max_width": null,
      "min_height": null,
      "min_width": null,
      "object_fit": null,
      "object_position": null,
      "order": null,
      "overflow": null,
      "overflow_x": null,
      "overflow_y": null,
      "padding": null,
      "right": null,
      "top": null,
      "visibility": null,
      "width": null
     }
    },
    "e7b1940fad7c4a4f91d9cffba5faa365": {
     "model_module": "@jupyter-widgets/controls",
     "model_name": "HTMLModel",
     "state": {
      "_dom_classes": [],
      "_model_module": "@jupyter-widgets/controls",
      "_model_module_version": "1.5.0",
      "_model_name": "HTMLModel",
      "_view_count": null,
      "_view_module": "@jupyter-widgets/controls",
      "_view_module_version": "1.5.0",
      "_view_name": "HTMLView",
      "description": "",
      "description_tooltip": null,
      "layout": "IPY_MODEL_057df290c4204d71a6f0f31d1c88a524",
      "placeholder": "​",
      "style": "IPY_MODEL_5b25e86e5c4f43eb88973d9fc0cb2bec",
      "value": " 232k/232k [00:02&lt;00:00, 104kB/s]"
     }
    },
    "e82ee99dc6504697b226a9592a521460": {
     "model_module": "@jupyter-widgets/base",
     "model_name": "LayoutModel",
     "state": {
      "_model_module": "@jupyter-widgets/base",
      "_model_module_version": "1.2.0",
      "_model_name": "LayoutModel",
      "_view_count": null,
      "_view_module": "@jupyter-widgets/base",
      "_view_module_version": "1.2.0",
      "_view_name": "LayoutView",
      "align_content": null,
      "align_items": null,
      "align_self": null,
      "border": null,
      "bottom": null,
      "display": null,
      "flex": null,
      "flex_flow": null,
      "grid_area": null,
      "grid_auto_columns": null,
      "grid_auto_flow": null,
      "grid_auto_rows": null,
      "grid_column": null,
      "grid_gap": null,
      "grid_row": null,
      "grid_template_areas": null,
      "grid_template_columns": null,
      "grid_template_rows": null,
      "height": null,
      "justify_content": null,
      "justify_items": null,
      "left": null,
      "margin": null,
      "max_height": null,
      "max_width": null,
      "min_height": null,
      "min_width": null,
      "object_fit": null,
      "object_position": null,
      "order": null,
      "overflow": null,
      "overflow_x": null,
      "overflow_y": null,
      "padding": null,
      "right": null,
      "top": null,
      "visibility": null,
      "width": null
     }
    },
    "ebdad3b7ddf74cbeb55b00d18aa5c375": {
     "model_module": "@jupyter-widgets/base",
     "model_name": "LayoutModel",
     "state": {
      "_model_module": "@jupyter-widgets/base",
      "_model_module_version": "1.2.0",
      "_model_name": "LayoutModel",
      "_view_count": null,
      "_view_module": "@jupyter-widgets/base",
      "_view_module_version": "1.2.0",
      "_view_name": "LayoutView",
      "align_content": null,
      "align_items": null,
      "align_self": null,
      "border": null,
      "bottom": null,
      "display": null,
      "flex": null,
      "flex_flow": null,
      "grid_area": null,
      "grid_auto_columns": null,
      "grid_auto_flow": null,
      "grid_auto_rows": null,
      "grid_column": null,
      "grid_gap": null,
      "grid_row": null,
      "grid_template_areas": null,
      "grid_template_columns": null,
      "grid_template_rows": null,
      "height": null,
      "justify_content": null,
      "justify_items": null,
      "left": null,
      "margin": null,
      "max_height": null,
      "max_width": null,
      "min_height": null,
      "min_width": null,
      "object_fit": null,
      "object_position": null,
      "order": null,
      "overflow": null,
      "overflow_x": null,
      "overflow_y": null,
      "padding": null,
      "right": null,
      "top": null,
      "visibility": null,
      "width": null
     }
    },
    "f604e771888d433093ef8a35634b7548": {
     "model_module": "@jupyter-widgets/controls",
     "model_name": "DescriptionStyleModel",
     "state": {
      "_model_module": "@jupyter-widgets/controls",
      "_model_module_version": "1.5.0",
      "_model_name": "DescriptionStyleModel",
      "_view_count": null,
      "_view_module": "@jupyter-widgets/base",
      "_view_module_version": "1.2.0",
      "_view_name": "StyleView",
      "description_width": ""
     }
    }
   }
  }
 },
 "nbformat": 4,
 "nbformat_minor": 1
}
